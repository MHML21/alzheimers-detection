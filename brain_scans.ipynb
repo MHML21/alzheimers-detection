{
 "cells": [
  {
   "cell_type": "code",
   "execution_count": 2,
   "metadata": {},
   "outputs": [
    {
     "name": "stderr",
     "output_type": "stream",
     "text": [
      "/Users/finnroblin/anaconda3/envs/ml/lib/python3.7/site-packages/nilearn/datasets/__init__.py:96: FutureWarning: Fetchers from the nilearn.datasets module will be updated in version 0.9 to return python strings instead of bytes and Pandas dataframes instead of Numpy arrays.\n",
      "  \"Numpy arrays.\", FutureWarning)\n"
     ]
    }
   ],
   "source": [
    "# get MRIs of people w Alz, w/o Alz\n",
    "import nilearn.datasets as fetch\n",
    "import pandas as pd\n",
    "\n"
   ]
  },
  {
   "cell_type": "code",
   "execution_count": 20,
   "metadata": {},
   "outputs": [],
   "source": [
    "patient_df = pd.read_csv(\"./patient_ids.csv\")\n",
    "alz_patient_ids = list(patient_df[patient_df['alz'] == 1]['ID'])\n",
    "no_alz_patient_ids = list(patient_df[patient_df['alz'] == 0]['ID'])"
   ]
  },
  {
   "cell_type": "code",
   "execution_count": 9,
   "metadata": {},
   "outputs": [
    {
     "data": {
      "text/plain": [
       "0     OAS1_0028_MR1\n",
       "1     OAS1_0031_MR1\n",
       "2     OAS1_0035_MR1\n",
       "3     OAS1_0052_MR1\n",
       "4     OAS1_0053_MR1\n",
       "5     OAS1_0056_MR1\n",
       "6     OAS1_0067_MR1\n",
       "7     OAS1_0073_MR1\n",
       "8     OAS1_0122_MR1\n",
       "9     OAS1_0134_MR1\n",
       "10    OAS1_0137_MR1\n",
       "11    OAS1_0184_MR1\n",
       "12    OAS1_0185_MR1\n",
       "13    OAS1_0223_MR1\n",
       "14    OAS1_0268_MR1\n",
       "15    OAS1_0269_MR1\n",
       "16    OAS1_0278_MR1\n",
       "17    OAS1_0291_MR1\n",
       "18    OAS1_0316_MR1\n",
       "19    OAS1_0373_MR1\n",
       "20    OAS1_0382_MR1\n",
       "21    OAS1_0388_MR1\n",
       "22    OAS1_0399_MR1\n",
       "23    OAS1_0405_MR1\n",
       "24    OAS1_0424_MR1\n",
       "25    OAS1_0425_MR1\n",
       "26    OAS1_0430_MR1\n",
       "27    OAS1_0452_MR1\n",
       "Name: ID, dtype: object"
      ]
     },
     "execution_count": 9,
     "metadata": {},
     "output_type": "execute_result"
    }
   ],
   "source": [
    "alz_ids"
   ]
  },
  {
   "cell_type": "code",
   "execution_count": 22,
   "metadata": {},
   "outputs": [
    {
     "name": "stderr",
     "output_type": "stream",
     "text": [
      "/Users/finnroblin/anaconda3/envs/ml/lib/python3.7/site-packages/numpy/lib/npyio.py:2405: VisibleDeprecationWarning: Reading unicode strings without specifying the encoding argument is deprecated. Set the encoding, use None for the system default.\n",
      "  output = genfromtxt(fname, **kwargs)\n"
     ]
    }
   ],
   "source": [
    "data = fetch.fetch_oasis_vbm(data_dir=\"./data/\")"
   ]
  },
  {
   "cell_type": "code",
   "execution_count": 12,
   "metadata": {},
   "outputs": [
    {
     "name": "stdout",
     "output_type": "stream",
     "text": [
      "['OAS1_0016_MR1', 'OAS1_0021_MR1', 'OAS1_0023_MR1', 'OAS1_0065_MR1', 'OAS1_0084_MR1', 'OAS1_0123_MR1', 'OAS1_0124_MR1', 'OAS1_0161_MR1', 'OAS1_0166_MR1', 'OAS1_0179_MR1', 'OAS1_0226_MR1', 'OAS1_0233_MR1', 'OAS1_0240_MR1', 'OAS1_0247_MR1', 'OAS1_0271_MR1', 'OAS1_0272_MR1', 'OAS1_0273_MR1', 'OAS1_0286_MR1', 'OAS1_0287_MR1', 'OAS1_0290_MR1', 'OAS1_0312_MR1', 'OAS1_0330_MR1', 'OAS1_0335_MR1', 'OAS1_0339_MR1', 'OAS1_0354_MR1', 'OAS1_0380_MR1', 'OAS1_0440_MR1', 'OAS1_0454_MR1']\n"
     ]
    }
   ],
   "source": [
    "print(list(no_alz_ids))"
   ]
  },
  {
   "cell_type": "code",
   "execution_count": 26,
   "metadata": {},
   "outputs": [
    {
     "data": {
      "text/plain": [
       "'./data/oasis1/OAS1_0032_MR1/mwrc1OAS1_0032_MR1_mpr_anon_fslswapdim_bet.nii.gz'"
      ]
     },
     "execution_count": 26,
     "metadata": {},
     "output_type": "execute_result"
    }
   ],
   "source": [
    "data.gray_matter_maps[28]"
   ]
  },
  {
   "cell_type": "code",
   "execution_count": 27,
   "metadata": {},
   "outputs": [
    {
     "ename": "NameError",
     "evalue": "name 'data' is not defined",
     "output_type": "error",
     "traceback": [
      "\u001b[0;31m---------------------------------------------------------------------------\u001b[0m",
      "\u001b[0;31mNameError\u001b[0m                                 Traceback (most recent call last)",
      "\u001b[0;32m<ipython-input-27-b3c4b61996ee>\u001b[0m in \u001b[0;36m<module>\u001b[0;34m\u001b[0m\n\u001b[1;32m      1\u001b[0m \u001b[0;32mfrom\u001b[0m \u001b[0mnilearn\u001b[0m\u001b[0;34m.\u001b[0m\u001b[0mplotting\u001b[0m \u001b[0;32mimport\u001b[0m \u001b[0mplot_stat_map\u001b[0m\u001b[0;34m,\u001b[0m \u001b[0mshow\u001b[0m\u001b[0;34m\u001b[0m\u001b[0;34m\u001b[0m\u001b[0m\n\u001b[0;32m----> 2\u001b[0;31m \u001b[0mbg_filename\u001b[0m \u001b[0;34m=\u001b[0m \u001b[0mdata\u001b[0m\u001b[0;34m.\u001b[0m\u001b[0mgray_matter_maps\u001b[0m\u001b[0;34m[\u001b[0m\u001b[0;36m0\u001b[0m\u001b[0;34m]\u001b[0m\u001b[0;34m\u001b[0m\u001b[0;34m\u001b[0m\u001b[0m\n\u001b[0m\u001b[1;32m      3\u001b[0m \u001b[0mz_slice\u001b[0m \u001b[0;34m=\u001b[0m \u001b[0;36m0\u001b[0m\u001b[0;34m\u001b[0m\u001b[0;34m\u001b[0m\u001b[0m\n\u001b[1;32m      4\u001b[0m display = plot_stat_map(data.gray_matter_maps[28], bg_img=bg_filename,\n\u001b[1;32m      5\u001b[0m                         display_mode='z', cut_coords=[z_slice])\n",
      "\u001b[0;31mNameError\u001b[0m: name 'data' is not defined"
     ]
    }
   ],
   "source": [
    "from nilearn.plotting import plot_stat_map, show\n",
    "bg_filename = data.gray_matter_maps[0]\n",
    "z_slice = 0\n",
    "display = plot_stat_map(data.gray_matter_maps[28], bg_img=bg_filename,\n",
    "                        display_mode='z', cut_coords=[z_slice])\n",
    "display.title(\"SVM weights\")\n",
    "show()"
   ]
  },
  {
   "cell_type": "code",
   "execution_count": null,
   "metadata": {},
   "outputs": [],
   "source": [
    "# display a plot_stat_map for the given patient\n",
    "\n",
    "def brain_plot(patient_id):\n",
    "    bg_filename = data.gray_matter_maps[0]\n",
    "    z_slice = 0\n",
    "    display = plot_stat_map(data.gray_matter_maps[patient_id], bg_img=bg_filename,\n",
    "                            display_mode='z', cut_coords=[z_slice])\n",
    "    display.title(\"SVM weights\")\n",
    "    show()"
   ]
  },
  {
   "cell_type": "code",
   "execution_count": 14,
   "metadata": {},
   "outputs": [],
   "source": [
    "import re"
   ]
  },
  {
   "cell_type": "code",
   "execution_count": 23,
   "metadata": {},
   "outputs": [
    {
     "name": "stdout",
     "output_type": "stream",
     "text": [
      "[28, 31, 35, 52, 53, 56, 67, 73, 122, 134, 137, 184, 185, 223, 268, 269, 278, 291, 316, 373, 382, 388, 399, 405, 424, 425, 430, 452]\n"
     ]
    }
   ],
   "source": [
    "def get_numbers_only_ids(ids):\n",
    "    l = []\n",
    "    # id in format: \"OAS1_{PATIENT_ID}_MR1\"\n",
    "    # e.g., OAS1_0028_MR1\n",
    "    # re '\\d+' would give: ['1','0028','1']\n",
    "    # so we get 1st element\n",
    "    for id in ids:\n",
    "#         l.append(int(filter(str.isdigit, id)))\n",
    "        number = re.findall('\\d+', id)\n",
    "        #print(id, number)\n",
    "        l.append(int(number[1]))\n",
    "    return l\n",
    "\n",
    "l = get_numbers_only_ids(list(alz_ids))\n",
    "print(l)\n",
    "\n",
    "#get_numbers_only_ids(ids)\n"
   ]
  },
  {
   "cell_type": "code",
   "execution_count": 26,
   "metadata": {},
   "outputs": [
    {
     "name": "stdout",
     "output_type": "stream",
     "text": [
      "alz:\n",
      " [28, 31, 35, 52, 53, 56, 67, 73, 122, 134, 137, 184, 185, 223, 268, 269, 278, 291, 316, 373, 382, 388, 399, 405, 424, 425, 430, 452] \n",
      "\n",
      "no alz:\n",
      " [16, 21, 23, 65, 84, 123, 124, 161, 166, 179, 226, 233, 240, 247, 271, 272, 273, 286, 287, 290, 312, 330, 335, 339, 354, 380, 440, 454] \n",
      "\n"
     ]
    }
   ],
   "source": [
    "alz_numerical_ids = get_numbers_only_ids(alz_patient_ids)\n",
    "no_alz_numerical_ids = get_numbers_only_ids(no_alz_patient_ids)\n",
    "\n",
    "print('alz:\\n', alz_numerical_ids, '\\n')\n",
    "print('no alz:\\n', no_alz_numerical_ids, '\\n')"
   ]
  },
  {
   "cell_type": "code",
   "execution_count": null,
   "metadata": {},
   "outputs": [],
   "source": []
  }
 ],
 "metadata": {
  "kernelspec": {
   "display_name": "Python 3.7.10 64-bit ('ml': conda)",
   "language": "python",
   "name": "python3710jvsc74a57bd03df47fec68cb59c161e4d2180e863da869af4ce487866aa43b50bb01d076bccb"
  },
  "language_info": {
   "codemirror_mode": {
    "name": "ipython",
    "version": 3
   },
   "file_extension": ".py",
   "mimetype": "text/x-python",
   "name": "python",
   "nbconvert_exporter": "python",
   "pygments_lexer": "ipython3",
   "version": "3.7.10"
  }
 },
 "nbformat": 4,
 "nbformat_minor": 4
}
