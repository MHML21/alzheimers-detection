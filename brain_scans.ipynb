{
 "cells": [
  {
   "cell_type": "code",
   "execution_count": 39,
   "metadata": {},
   "outputs": [],
   "source": [
    "# get MRIs of people w Alz, w/o Alz\n",
    "import nilearn.datasets as fetch\n",
    "import pandas as pd\n",
    "\n"
   ]
  },
  {
   "cell_type": "code",
   "execution_count": 40,
   "metadata": {},
   "outputs": [],
   "source": [
    "patient_df = pd.read_csv(\"./patient_ids.csv\")\n",
    "alz_patient_ids = list(patient_df[patient_df['alz'] == 1]['ID'])\n",
    "no_alz_patient_ids = list(patient_df[patient_df['alz'] == 0]['ID'])"
   ]
  },
  {
   "cell_type": "code",
   "execution_count": 41,
   "metadata": {},
   "outputs": [
    {
     "name": "stderr",
     "output_type": "stream",
     "text": [
      "/Users/finnroblin/anaconda3/envs/ml/lib/python3.7/site-packages/numpy/lib/npyio.py:2405: VisibleDeprecationWarning: Reading unicode strings without specifying the encoding argument is deprecated. Set the encoding, use None for the system default.\n",
      "  output = genfromtxt(fname, **kwargs)\n"
     ]
    }
   ],
   "source": [
    "data = fetch.fetch_oasis_vbm(data_dir=\"./data/\")"
   ]
  },
  {
   "cell_type": "code",
   "execution_count": 42,
   "metadata": {},
   "outputs": [
    {
     "data": {
      "text/plain": [
       "['./data/oasis1/OAS1_0001_MR1/mwrc1OAS1_0001_MR1_mpr_anon_fslswapdim_bet.nii.gz',\n",
       " './data/oasis1/OAS1_0002_MR1/mwrc1OAS1_0002_MR1_mpr_anon_fslswapdim_bet.nii.gz',\n",
       " './data/oasis1/OAS1_0003_MR1/mwrc1OAS1_0003_MR1_mpr_anon_fslswapdim_bet.nii.gz',\n",
       " './data/oasis1/OAS1_0004_MR1/mwrc1OAS1_0004_MR1_mpr_anon_fslswapdim_bet.nii.gz',\n",
       " './data/oasis1/OAS1_0005_MR1/mwrc1OAS1_0005_MR1_mpr_anon_fslswapdim_bet.nii.gz',\n",
       " './data/oasis1/OAS1_0006_MR1/mwrc1OAS1_0006_MR1_mpr_anon_fslswapdim_bet.nii.gz',\n",
       " './data/oasis1/OAS1_0007_MR1/mwrc1OAS1_0007_MR1_mpr_anon_fslswapdim_bet.nii.gz',\n",
       " './data/oasis1/OAS1_0009_MR1/mwrc1OAS1_0009_MR1_mpr_anon_fslswapdim_bet.nii.gz',\n",
       " './data/oasis1/OAS1_0010_MR1/mwrc1OAS1_0010_MR1_mpr_anon_fslswapdim_bet.nii.gz',\n",
       " './data/oasis1/OAS1_0011_MR1/mwrc1OAS1_0011_MR1_mpr_anon_fslswapdim_bet.nii.gz',\n",
       " './data/oasis1/OAS1_0012_MR1/mwrc1OAS1_0012_MR1_mpr_anon_fslswapdim_bet.nii.gz',\n",
       " './data/oasis1/OAS1_0013_MR1/mwrc1OAS1_0013_MR1_mpr_anon_fslswapdim_bet.nii.gz',\n",
       " './data/oasis1/OAS1_0014_MR1/mwrc1OAS1_0014_MR1_mpr_anon_fslswapdim_bet.nii.gz',\n",
       " './data/oasis1/OAS1_0015_MR1/mwrc1OAS1_0015_MR1_mpr_anon_fslswapdim_bet.nii.gz',\n",
       " './data/oasis1/OAS1_0016_MR1/mwrc1OAS1_0016_MR1_mpr_anon_fslswapdim_bet.nii.gz',\n",
       " './data/oasis1/OAS1_0017_MR1/mwrc1OAS1_0017_MR1_mpr_anon_fslswapdim_bet.nii.gz',\n",
       " './data/oasis1/OAS1_0018_MR1/mwrc1OAS1_0018_MR1_mpr_anon_fslswapdim_bet.nii.gz',\n",
       " './data/oasis1/OAS1_0019_MR1/mwrc1OAS1_0019_MR1_mpr_anon_fslswapdim_bet.nii.gz',\n",
       " './data/oasis1/OAS1_0020_MR1/mwrc1OAS1_0020_MR1_mpr_anon_fslswapdim_bet.nii.gz',\n",
       " './data/oasis1/OAS1_0021_MR1/mwrc1OAS1_0021_MR1_mpr_anon_fslswapdim_bet.nii.gz',\n",
       " './data/oasis1/OAS1_0022_MR1/mwrc1OAS1_0022_MR1_mpr_anon_fslswapdim_bet.nii.gz',\n",
       " './data/oasis1/OAS1_0023_MR1/mwrc1OAS1_0023_MR1_mpr_anon_fslswapdim_bet.nii.gz',\n",
       " './data/oasis1/OAS1_0025_MR1/mwrc1OAS1_0025_MR1_mpr_anon_fslswapdim_bet.nii.gz',\n",
       " './data/oasis1/OAS1_0026_MR1/mwrc1OAS1_0026_MR1_mpr_anon_fslswapdim_bet.nii.gz',\n",
       " './data/oasis1/OAS1_0028_MR1/mwrc1OAS1_0028_MR1_mpr_anon_fslswapdim_bet.nii.gz',\n",
       " './data/oasis1/OAS1_0029_MR1/mwrc1OAS1_0029_MR1_mpr_anon_fslswapdim_bet.nii.gz',\n",
       " './data/oasis1/OAS1_0030_MR1/mwrc1OAS1_0030_MR1_mpr_anon_fslswapdim_bet.nii.gz',\n",
       " './data/oasis1/OAS1_0031_MR1/mwrc1OAS1_0031_MR1_mpr_anon_fslswapdim_bet.nii.gz',\n",
       " './data/oasis1/OAS1_0032_MR1/mwrc1OAS1_0032_MR1_mpr_anon_fslswapdim_bet.nii.gz',\n",
       " './data/oasis1/OAS1_0033_MR1/mwrc1OAS1_0033_MR1_mpr_anon_fslswapdim_bet.nii.gz',\n",
       " './data/oasis1/OAS1_0034_MR1/mwrc1OAS1_0034_MR1_mpr_anon_fslswapdim_bet.nii.gz',\n",
       " './data/oasis1/OAS1_0035_MR1/mwrc1OAS1_0035_MR1_mpr_anon_fslswapdim_bet.nii.gz',\n",
       " './data/oasis1/OAS1_0037_MR1/mwrc1OAS1_0037_MR1_mpr_anon_fslswapdim_bet.nii.gz',\n",
       " './data/oasis1/OAS1_0038_MR1/mwrc1OAS1_0038_MR1_mpr_anon_fslswapdim_bet.nii.gz',\n",
       " './data/oasis1/OAS1_0039_MR1/mwrc1OAS1_0039_MR1_mpr_anon_fslswapdim_bet.nii.gz',\n",
       " './data/oasis1/OAS1_0040_MR1/mwrc1OAS1_0040_MR1_mpr_anon_fslswapdim_bet.nii.gz',\n",
       " './data/oasis1/OAS1_0041_MR1/mwrc1OAS1_0041_MR1_mpr_anon_fslswapdim_bet.nii.gz',\n",
       " './data/oasis1/OAS1_0042_MR1/mwrc1OAS1_0042_MR1_mpr_anon_fslswapdim_bet.nii.gz',\n",
       " './data/oasis1/OAS1_0043_MR1/mwrc1OAS1_0043_MR1_mpr_anon_fslswapdim_bet.nii.gz',\n",
       " './data/oasis1/OAS1_0044_MR1/mwrc1OAS1_0044_MR1_mpr_anon_fslswapdim_bet.nii.gz',\n",
       " './data/oasis1/OAS1_0045_MR1/mwrc1OAS1_0045_MR1_mpr_anon_fslswapdim_bet.nii.gz',\n",
       " './data/oasis1/OAS1_0046_MR1/mwrc1OAS1_0046_MR1_mpr_anon_fslswapdim_bet.nii.gz',\n",
       " './data/oasis1/OAS1_0047_MR1/mwrc1OAS1_0047_MR1_mpr_anon_fslswapdim_bet.nii.gz',\n",
       " './data/oasis1/OAS1_0049_MR1/mwrc1OAS1_0049_MR1_mpr_anon_fslswapdim_bet.nii.gz',\n",
       " './data/oasis1/OAS1_0050_MR1/mwrc1OAS1_0050_MR1_mpr_anon_fslswapdim_bet.nii.gz',\n",
       " './data/oasis1/OAS1_0051_MR1/mwrc1OAS1_0051_MR1_mpr_anon_fslswapdim_bet.nii.gz',\n",
       " './data/oasis1/OAS1_0052_MR1/mwrc1OAS1_0052_MR1_mpr_anon_fslswapdim_bet.nii.gz',\n",
       " './data/oasis1/OAS1_0053_MR1/mwrc1OAS1_0053_MR1_mpr_anon_fslswapdim_bet.nii.gz',\n",
       " './data/oasis1/OAS1_0054_MR1/mwrc1OAS1_0054_MR1_mpr_anon_fslswapdim_bet.nii.gz',\n",
       " './data/oasis1/OAS1_0055_MR1/mwrc1OAS1_0055_MR1_mpr_anon_fslswapdim_bet.nii.gz',\n",
       " './data/oasis1/OAS1_0056_MR1/mwrc1OAS1_0056_MR1_mpr_anon_fslswapdim_bet.nii.gz',\n",
       " './data/oasis1/OAS1_0058_MR1/mwrc1OAS1_0058_MR1_mpr_anon_fslswapdim_bet.nii.gz',\n",
       " './data/oasis1/OAS1_0059_MR1/mwrc1OAS1_0059_MR1_mpr_anon_fslswapdim_bet.nii.gz',\n",
       " './data/oasis1/OAS1_0060_MR1/mwrc1OAS1_0060_MR1_mpr_anon_fslswapdim_bet.nii.gz',\n",
       " './data/oasis1/OAS1_0061_MR1/mwrc1OAS1_0061_MR1_mpr_anon_fslswapdim_bet.nii.gz',\n",
       " './data/oasis1/OAS1_0062_MR1/mwrc1OAS1_0062_MR1_mpr_anon_fslswapdim_bet.nii.gz',\n",
       " './data/oasis1/OAS1_0063_MR1/mwrc1OAS1_0063_MR1_mpr_anon_fslswapdim_bet.nii.gz',\n",
       " './data/oasis1/OAS1_0064_MR1/mwrc1OAS1_0064_MR1_mpr_anon_fslswapdim_bet.nii.gz',\n",
       " './data/oasis1/OAS1_0065_MR1/mwrc1OAS1_0065_MR1_mpr_anon_fslswapdim_bet.nii.gz',\n",
       " './data/oasis1/OAS1_0067_MR1/mwrc1OAS1_0067_MR1_mpr_anon_fslswapdim_bet.nii.gz',\n",
       " './data/oasis1/OAS1_0068_MR1/mwrc1OAS1_0068_MR1_mpr_anon_fslswapdim_bet.nii.gz',\n",
       " './data/oasis1/OAS1_0069_MR1/mwrc1OAS1_0069_MR1_mpr_anon_fslswapdim_bet.nii.gz',\n",
       " './data/oasis1/OAS1_0070_MR1/mwrc1OAS1_0070_MR1_mpr_anon_fslswapdim_bet.nii.gz',\n",
       " './data/oasis1/OAS1_0071_MR1/mwrc1OAS1_0071_MR1_mpr_anon_fslswapdim_bet.nii.gz',\n",
       " './data/oasis1/OAS1_0072_MR1/mwrc1OAS1_0072_MR1_mpr_anon_fslswapdim_bet.nii.gz',\n",
       " './data/oasis1/OAS1_0073_MR1/mwrc1OAS1_0073_MR1_mpr_anon_fslswapdim_bet.nii.gz',\n",
       " './data/oasis1/OAS1_0074_MR1/mwrc1OAS1_0074_MR1_mpr_anon_fslswapdim_bet.nii.gz',\n",
       " './data/oasis1/OAS1_0075_MR1/mwrc1OAS1_0075_MR1_mpr_anon_fslswapdim_bet.nii.gz',\n",
       " './data/oasis1/OAS1_0076_MR1/mwrc1OAS1_0076_MR1_mpr_anon_fslswapdim_bet.nii.gz',\n",
       " './data/oasis1/OAS1_0077_MR1/mwrc1OAS1_0077_MR1_mpr_anon_fslswapdim_bet.nii.gz',\n",
       " './data/oasis1/OAS1_0078_MR1/mwrc1OAS1_0078_MR1_mpr_anon_fslswapdim_bet.nii.gz',\n",
       " './data/oasis1/OAS1_0079_MR1/mwrc1OAS1_0079_MR1_mpr_anon_fslswapdim_bet.nii.gz',\n",
       " './data/oasis1/OAS1_0080_MR1/mwrc1OAS1_0080_MR1_mpr_anon_fslswapdim_bet.nii.gz',\n",
       " './data/oasis1/OAS1_0081_MR1/mwrc1OAS1_0081_MR1_mpr_anon_fslswapdim_bet.nii.gz',\n",
       " './data/oasis1/OAS1_0082_MR1/mwrc1OAS1_0082_MR1_mpr_anon_fslswapdim_bet.nii.gz',\n",
       " './data/oasis1/OAS1_0084_MR1/mwrc1OAS1_0084_MR1_mpr_anon_fslswapdim_bet.nii.gz',\n",
       " './data/oasis1/OAS1_0085_MR1/mwrc1OAS1_0085_MR1_mpr_anon_fslswapdim_bet.nii.gz',\n",
       " './data/oasis1/OAS1_0086_MR1/mwrc1OAS1_0086_MR1_mpr_anon_fslswapdim_bet.nii.gz',\n",
       " './data/oasis1/OAS1_0087_MR1/mwrc1OAS1_0087_MR1_mpr_anon_fslswapdim_bet.nii.gz',\n",
       " './data/oasis1/OAS1_0088_MR1/mwrc1OAS1_0088_MR1_mpr_anon_fslswapdim_bet.nii.gz',\n",
       " './data/oasis1/OAS1_0090_MR1/mwrc1OAS1_0090_MR1_mpr_anon_fslswapdim_bet.nii.gz',\n",
       " './data/oasis1/OAS1_0091_MR1/mwrc1OAS1_0091_MR1_mpr_anon_fslswapdim_bet.nii.gz',\n",
       " './data/oasis1/OAS1_0092_MR1/mwrc1OAS1_0092_MR1_mpr_anon_fslswapdim_bet.nii.gz',\n",
       " './data/oasis1/OAS1_0094_MR1/mwrc1OAS1_0094_MR1_mpr_anon_fslswapdim_bet.nii.gz',\n",
       " './data/oasis1/OAS1_0095_MR1/mwrc1OAS1_0095_MR1_mpr_anon_fslswapdim_bet.nii.gz',\n",
       " './data/oasis1/OAS1_0096_MR1/mwrc1OAS1_0096_MR1_mpr_anon_fslswapdim_bet.nii.gz',\n",
       " './data/oasis1/OAS1_0097_MR1/mwrc1OAS1_0097_MR1_mpr_anon_fslswapdim_bet.nii.gz',\n",
       " './data/oasis1/OAS1_0098_MR1/mwrc1OAS1_0098_MR1_mpr_anon_fslswapdim_bet.nii.gz',\n",
       " './data/oasis1/OAS1_0099_MR1/mwrc1OAS1_0099_MR1_mpr_anon_fslswapdim_bet.nii.gz',\n",
       " './data/oasis1/OAS1_0101_MR1/mwrc1OAS1_0101_MR1_mpr_anon_fslswapdim_bet.nii.gz',\n",
       " './data/oasis1/OAS1_0102_MR1/mwrc1OAS1_0102_MR1_mpr_anon_fslswapdim_bet.nii.gz',\n",
       " './data/oasis1/OAS1_0103_MR1/mwrc1OAS1_0103_MR1_mpr_anon_fslswapdim_bet.nii.gz',\n",
       " './data/oasis1/OAS1_0104_MR1/mwrc1OAS1_0104_MR1_mpr_anon_fslswapdim_bet.nii.gz',\n",
       " './data/oasis1/OAS1_0105_MR1/mwrc1OAS1_0105_MR1_mpr_anon_fslswapdim_bet.nii.gz',\n",
       " './data/oasis1/OAS1_0106_MR1/mwrc1OAS1_0106_MR1_mpr_anon_fslswapdim_bet.nii.gz',\n",
       " './data/oasis1/OAS1_0107_MR1/mwrc1OAS1_0107_MR1_mpr_anon_fslswapdim_bet.nii.gz',\n",
       " './data/oasis1/OAS1_0108_MR1/mwrc1OAS1_0108_MR1_mpr_anon_fslswapdim_bet.nii.gz',\n",
       " './data/oasis1/OAS1_0109_MR1/mwrc1OAS1_0109_MR1_mpr_anon_fslswapdim_bet.nii.gz',\n",
       " './data/oasis1/OAS1_0110_MR1/mwrc1OAS1_0110_MR1_mpr_anon_fslswapdim_bet.nii.gz',\n",
       " './data/oasis1/OAS1_0111_MR1/mwrc1OAS1_0111_MR1_mpr_anon_fslswapdim_bet.nii.gz',\n",
       " './data/oasis1/OAS1_0112_MR1/mwrc1OAS1_0112_MR1_mpr_anon_fslswapdim_bet.nii.gz',\n",
       " './data/oasis1/OAS1_0113_MR1/mwrc1OAS1_0113_MR1_mpr_anon_fslswapdim_bet.nii.gz',\n",
       " './data/oasis1/OAS1_0114_MR1/mwrc1OAS1_0114_MR1_mpr_anon_fslswapdim_bet.nii.gz',\n",
       " './data/oasis1/OAS1_0115_MR1/mwrc1OAS1_0115_MR1_mpr_anon_fslswapdim_bet.nii.gz',\n",
       " './data/oasis1/OAS1_0116_MR1/mwrc1OAS1_0116_MR1_mpr_anon_fslswapdim_bet.nii.gz',\n",
       " './data/oasis1/OAS1_0117_MR1/mwrc1OAS1_0117_MR1_mpr_anon_fslswapdim_bet.nii.gz',\n",
       " './data/oasis1/OAS1_0119_MR1/mwrc1OAS1_0119_MR1_mpr_anon_fslswapdim_bet.nii.gz',\n",
       " './data/oasis1/OAS1_0120_MR1/mwrc1OAS1_0120_MR1_mpr_anon_fslswapdim_bet.nii.gz',\n",
       " './data/oasis1/OAS1_0121_MR1/mwrc1OAS1_0121_MR1_mpr_anon_fslswapdim_bet.nii.gz',\n",
       " './data/oasis1/OAS1_0123_MR1/mwrc1OAS1_0123_MR1_mpr_anon_fslswapdim_bet.nii.gz',\n",
       " './data/oasis1/OAS1_0124_MR1/mwrc1OAS1_0124_MR1_mpr_anon_fslswapdim_bet.nii.gz',\n",
       " './data/oasis1/OAS1_0125_MR1/mwrc1OAS1_0125_MR1_mpr_anon_fslswapdim_bet.nii.gz',\n",
       " './data/oasis1/OAS1_0126_MR1/mwrc1OAS1_0126_MR1_mpr_anon_fslswapdim_bet.nii.gz',\n",
       " './data/oasis1/OAS1_0127_MR1/mwrc1OAS1_0127_MR1_mpr_anon_fslswapdim_bet.nii.gz',\n",
       " './data/oasis1/OAS1_0129_MR1/mwrc1OAS1_0129_MR1_mpr_anon_fslswapdim_bet.nii.gz',\n",
       " './data/oasis1/OAS1_0130_MR1/mwrc1OAS1_0130_MR1_mpr_anon_fslswapdim_bet.nii.gz',\n",
       " './data/oasis1/OAS1_0131_MR1/mwrc1OAS1_0131_MR1_mpr_anon_fslswapdim_bet.nii.gz',\n",
       " './data/oasis1/OAS1_0132_MR1/mwrc1OAS1_0132_MR1_mpr_anon_fslswapdim_bet.nii.gz',\n",
       " './data/oasis1/OAS1_0133_MR1/mwrc1OAS1_0133_MR1_mpr_anon_fslswapdim_bet.nii.gz',\n",
       " './data/oasis1/OAS1_0134_MR1/mwrc1OAS1_0134_MR1_mpr_anon_fslswapdim_bet.nii.gz',\n",
       " './data/oasis1/OAS1_0135_MR1/mwrc1OAS1_0135_MR1_mpr_anon_fslswapdim_bet.nii.gz',\n",
       " './data/oasis1/OAS1_0136_MR1/mwrc1OAS1_0136_MR1_mpr_anon_fslswapdim_bet.nii.gz',\n",
       " './data/oasis1/OAS1_0137_MR1/mwrc1OAS1_0137_MR1_mpr_anon_fslswapdim_bet.nii.gz',\n",
       " './data/oasis1/OAS1_0138_MR1/mwrc1OAS1_0138_MR1_mpr_anon_fslswapdim_bet.nii.gz',\n",
       " './data/oasis1/OAS1_0139_MR1/mwrc1OAS1_0139_MR1_mpr_anon_fslswapdim_bet.nii.gz',\n",
       " './data/oasis1/OAS1_0140_MR1/mwrc1OAS1_0140_MR1_mpr_anon_fslswapdim_bet.nii.gz',\n",
       " './data/oasis1/OAS1_0141_MR1/mwrc1OAS1_0141_MR1_mpr_anon_fslswapdim_bet.nii.gz',\n",
       " './data/oasis1/OAS1_0142_MR1/mwrc1OAS1_0142_MR1_mpr_anon_fslswapdim_bet.nii.gz',\n",
       " './data/oasis1/OAS1_0143_MR1/mwrc1OAS1_0143_MR1_mpr_anon_fslswapdim_bet.nii.gz',\n",
       " './data/oasis1/OAS1_0144_MR1/mwrc1OAS1_0144_MR1_mpr_anon_fslswapdim_bet.nii.gz',\n",
       " './data/oasis1/OAS1_0145_MR1/mwrc1OAS1_0145_MR1_mpr_anon_fslswapdim_bet.nii.gz',\n",
       " './data/oasis1/OAS1_0146_MR1/mwrc1OAS1_0146_MR1_mpr_anon_fslswapdim_bet.nii.gz',\n",
       " './data/oasis1/OAS1_0147_MR1/mwrc1OAS1_0147_MR1_mpr_anon_fslswapdim_bet.nii.gz',\n",
       " './data/oasis1/OAS1_0148_MR1/mwrc1OAS1_0148_MR1_mpr_anon_fslswapdim_bet.nii.gz',\n",
       " './data/oasis1/OAS1_0150_MR1/mwrc1OAS1_0150_MR1_mpr_anon_fslswapdim_bet.nii.gz',\n",
       " './data/oasis1/OAS1_0151_MR1/mwrc1OAS1_0151_MR1_mpr_anon_fslswapdim_bet.nii.gz',\n",
       " './data/oasis1/OAS1_0152_MR1/mwrc1OAS1_0152_MR1_mpr_anon_fslswapdim_bet.nii.gz',\n",
       " './data/oasis1/OAS1_0153_MR1/mwrc1OAS1_0153_MR1_mpr_anon_fslswapdim_bet.nii.gz',\n",
       " './data/oasis1/OAS1_0155_MR1/mwrc1OAS1_0155_MR1_mpr_anon_fslswapdim_bet.nii.gz',\n",
       " './data/oasis1/OAS1_0156_MR1/mwrc1OAS1_0156_MR1_mpr_anon_fslswapdim_bet.nii.gz',\n",
       " './data/oasis1/OAS1_0158_MR1/mwrc1OAS1_0158_MR1_mpr_anon_fslswapdim_bet.nii.gz',\n",
       " './data/oasis1/OAS1_0159_MR1/mwrc1OAS1_0159_MR1_mpr_anon_fslswapdim_bet.nii.gz',\n",
       " './data/oasis1/OAS1_0160_MR1/mwrc1OAS1_0160_MR1_mpr_anon_fslswapdim_bet.nii.gz',\n",
       " './data/oasis1/OAS1_0161_MR1/mwrc1OAS1_0161_MR1_mpr_anon_fslswapdim_bet.nii.gz',\n",
       " './data/oasis1/OAS1_0162_MR1/mwrc1OAS1_0162_MR1_mpr_anon_fslswapdim_bet.nii.gz',\n",
       " './data/oasis1/OAS1_0163_MR1/mwrc1OAS1_0163_MR1_mpr_anon_fslswapdim_bet.nii.gz',\n",
       " './data/oasis1/OAS1_0164_MR1/mwrc1OAS1_0164_MR1_mpr_anon_fslswapdim_bet.nii.gz',\n",
       " './data/oasis1/OAS1_0165_MR1/mwrc1OAS1_0165_MR1_mpr_anon_fslswapdim_bet.nii.gz',\n",
       " './data/oasis1/OAS1_0166_MR1/mwrc1OAS1_0166_MR1_mpr_anon_fslswapdim_bet.nii.gz',\n",
       " './data/oasis1/OAS1_0167_MR1/mwrc1OAS1_0167_MR1_mpr_anon_fslswapdim_bet.nii.gz',\n",
       " './data/oasis1/OAS1_0168_MR1/mwrc1OAS1_0168_MR1_mpr_anon_fslswapdim_bet.nii.gz',\n",
       " './data/oasis1/OAS1_0169_MR1/mwrc1OAS1_0169_MR1_mpr_anon_fslswapdim_bet.nii.gz',\n",
       " './data/oasis1/OAS1_0170_MR1/mwrc1OAS1_0170_MR1_mpr_anon_fslswapdim_bet.nii.gz',\n",
       " './data/oasis1/OAS1_0173_MR1/mwrc1OAS1_0173_MR1_mpr_anon_fslswapdim_bet.nii.gz',\n",
       " './data/oasis1/OAS1_0174_MR1/mwrc1OAS1_0174_MR1_mpr_anon_fslswapdim_bet.nii.gz',\n",
       " './data/oasis1/OAS1_0176_MR1/mwrc1OAS1_0176_MR1_mpr_anon_fslswapdim_bet.nii.gz',\n",
       " './data/oasis1/OAS1_0177_MR1/mwrc1OAS1_0177_MR1_mpr_anon_fslswapdim_bet.nii.gz',\n",
       " './data/oasis1/OAS1_0178_MR1/mwrc1OAS1_0178_MR1_mpr_anon_fslswapdim_bet.nii.gz',\n",
       " './data/oasis1/OAS1_0179_MR1/mwrc1OAS1_0179_MR1_mpr_anon_fslswapdim_bet.nii.gz',\n",
       " './data/oasis1/OAS1_0180_MR1/mwrc1OAS1_0180_MR1_mpr_anon_fslswapdim_bet.nii.gz',\n",
       " './data/oasis1/OAS1_0181_MR1/mwrc1OAS1_0181_MR1_mpr_anon_fslswapdim_bet.nii.gz',\n",
       " './data/oasis1/OAS1_0182_MR1/mwrc1OAS1_0182_MR1_mpr_anon_fslswapdim_bet.nii.gz',\n",
       " './data/oasis1/OAS1_0183_MR1/mwrc1OAS1_0183_MR1_mpr_anon_fslswapdim_bet.nii.gz',\n",
       " './data/oasis1/OAS1_0184_MR1/mwrc1OAS1_0184_MR1_mpr_anon_fslswapdim_bet.nii.gz',\n",
       " './data/oasis1/OAS1_0185_MR1/mwrc1OAS1_0185_MR1_mpr_anon_fslswapdim_bet.nii.gz',\n",
       " './data/oasis1/OAS1_0186_MR1/mwrc1OAS1_0186_MR1_mpr_anon_fslswapdim_bet.nii.gz',\n",
       " './data/oasis1/OAS1_0188_MR1/mwrc1OAS1_0188_MR1_mpr_anon_fslswapdim_bet.nii.gz',\n",
       " './data/oasis1/OAS1_0189_MR1/mwrc1OAS1_0189_MR1_mpr_anon_fslswapdim_bet.nii.gz',\n",
       " './data/oasis1/OAS1_0190_MR1/mwrc1OAS1_0190_MR1_mpr_anon_fslswapdim_bet.nii.gz',\n",
       " './data/oasis1/OAS1_0191_MR1/mwrc1OAS1_0191_MR1_mpr_anon_fslswapdim_bet.nii.gz',\n",
       " './data/oasis1/OAS1_0192_MR1/mwrc1OAS1_0192_MR1_mpr_anon_fslswapdim_bet.nii.gz',\n",
       " './data/oasis1/OAS1_0193_MR1/mwrc1OAS1_0193_MR1_mpr_anon_fslswapdim_bet.nii.gz',\n",
       " './data/oasis1/OAS1_0195_MR1/mwrc1OAS1_0195_MR1_mpr_anon_fslswapdim_bet.nii.gz',\n",
       " './data/oasis1/OAS1_0197_MR1/mwrc1OAS1_0197_MR1_mpr_anon_fslswapdim_bet.nii.gz',\n",
       " './data/oasis1/OAS1_0198_MR1/mwrc1OAS1_0198_MR1_mpr_anon_fslswapdim_bet.nii.gz',\n",
       " './data/oasis1/OAS1_0199_MR1/mwrc1OAS1_0199_MR1_mpr_anon_fslswapdim_bet.nii.gz',\n",
       " './data/oasis1/OAS1_0200_MR1/mwrc1OAS1_0200_MR1_mpr_anon_fslswapdim_bet.nii.gz',\n",
       " './data/oasis1/OAS1_0201_MR1/mwrc1OAS1_0201_MR1_mpr_anon_fslswapdim_bet.nii.gz',\n",
       " './data/oasis1/OAS1_0202_MR1/mwrc1OAS1_0202_MR1_mpr_anon_fslswapdim_bet.nii.gz',\n",
       " './data/oasis1/OAS1_0203_MR1/mwrc1OAS1_0203_MR1_mpr_anon_fslswapdim_bet.nii.gz',\n",
       " './data/oasis1/OAS1_0204_MR1/mwrc1OAS1_0204_MR1_mpr_anon_fslswapdim_bet.nii.gz',\n",
       " './data/oasis1/OAS1_0205_MR1/mwrc1OAS1_0205_MR1_mpr_anon_fslswapdim_bet.nii.gz',\n",
       " './data/oasis1/OAS1_0206_MR1/mwrc1OAS1_0206_MR1_mpr_anon_fslswapdim_bet.nii.gz',\n",
       " './data/oasis1/OAS1_0207_MR1/mwrc1OAS1_0207_MR1_mpr_anon_fslswapdim_bet.nii.gz',\n",
       " './data/oasis1/OAS1_0208_MR1/mwrc1OAS1_0208_MR1_mpr_anon_fslswapdim_bet.nii.gz',\n",
       " './data/oasis1/OAS1_0209_MR1/mwrc1OAS1_0209_MR1_mpr_anon_fslswapdim_bet.nii.gz',\n",
       " './data/oasis1/OAS1_0210_MR1/mwrc1OAS1_0210_MR1_mpr_anon_fslswapdim_bet.nii.gz',\n",
       " './data/oasis1/OAS1_0211_MR1/mwrc1OAS1_0211_MR1_mpr_anon_fslswapdim_bet.nii.gz',\n",
       " './data/oasis1/OAS1_0212_MR1/mwrc1OAS1_0212_MR1_mpr_anon_fslswapdim_bet.nii.gz',\n",
       " './data/oasis1/OAS1_0213_MR1/mwrc1OAS1_0213_MR1_mpr_anon_fslswapdim_bet.nii.gz',\n",
       " './data/oasis1/OAS1_0214_MR1/mwrc1OAS1_0214_MR1_mpr_anon_fslswapdim_bet.nii.gz',\n",
       " './data/oasis1/OAS1_0216_MR1/mwrc1OAS1_0216_MR1_mpr_anon_fslswapdim_bet.nii.gz',\n",
       " './data/oasis1/OAS1_0217_MR1/mwrc1OAS1_0217_MR1_mpr_anon_fslswapdim_bet.nii.gz',\n",
       " './data/oasis1/OAS1_0218_MR1/mwrc1OAS1_0218_MR1_mpr_anon_fslswapdim_bet.nii.gz',\n",
       " './data/oasis1/OAS1_0220_MR1/mwrc1OAS1_0220_MR1_mpr_anon_fslswapdim_bet.nii.gz',\n",
       " './data/oasis1/OAS1_0221_MR1/mwrc1OAS1_0221_MR1_mpr_anon_fslswapdim_bet.nii.gz',\n",
       " './data/oasis1/OAS1_0223_MR1/mwrc1OAS1_0223_MR1_mpr_anon_fslswapdim_bet.nii.gz',\n",
       " './data/oasis1/OAS1_0224_MR1/mwrc1OAS1_0224_MR1_mpr_anon_fslswapdim_bet.nii.gz',\n",
       " './data/oasis1/OAS1_0226_MR1/mwrc1OAS1_0226_MR1_mpr_anon_fslswapdim_bet.nii.gz',\n",
       " './data/oasis1/OAS1_0227_MR1/mwrc1OAS1_0227_MR1_mpr_anon_fslswapdim_bet.nii.gz',\n",
       " './data/oasis1/OAS1_0228_MR1/mwrc1OAS1_0228_MR1_mpr_anon_fslswapdim_bet.nii.gz',\n",
       " './data/oasis1/OAS1_0229_MR1/mwrc1OAS1_0229_MR1_mpr_anon_fslswapdim_bet.nii.gz',\n",
       " './data/oasis1/OAS1_0230_MR1/mwrc1OAS1_0230_MR1_mpr_anon_fslswapdim_bet.nii.gz',\n",
       " './data/oasis1/OAS1_0231_MR1/mwrc1OAS1_0231_MR1_mpr_anon_fslswapdim_bet.nii.gz',\n",
       " './data/oasis1/OAS1_0232_MR1/mwrc1OAS1_0232_MR1_mpr_anon_fslswapdim_bet.nii.gz',\n",
       " './data/oasis1/OAS1_0233_MR1/mwrc1OAS1_0233_MR1_mpr_anon_fslswapdim_bet.nii.gz',\n",
       " './data/oasis1/OAS1_0234_MR1/mwrc1OAS1_0234_MR1_mpr_anon_fslswapdim_bet.nii.gz',\n",
       " './data/oasis1/OAS1_0235_MR1/mwrc1OAS1_0235_MR1_mpr_anon_fslswapdim_bet.nii.gz',\n",
       " './data/oasis1/OAS1_0236_MR1/mwrc1OAS1_0236_MR1_mpr_anon_fslswapdim_bet.nii.gz',\n",
       " './data/oasis1/OAS1_0237_MR1/mwrc1OAS1_0237_MR1_mpr_anon_fslswapdim_bet.nii.gz',\n",
       " './data/oasis1/OAS1_0238_MR1/mwrc1OAS1_0238_MR1_mpr_anon_fslswapdim_bet.nii.gz',\n",
       " './data/oasis1/OAS1_0239_MR1/mwrc1OAS1_0239_MR1_mpr_anon_fslswapdim_bet.nii.gz',\n",
       " './data/oasis1/OAS1_0240_MR1/mwrc1OAS1_0240_MR1_mpr_anon_fslswapdim_bet.nii.gz',\n",
       " './data/oasis1/OAS1_0241_MR1/mwrc1OAS1_0241_MR1_mpr_anon_fslswapdim_bet.nii.gz',\n",
       " './data/oasis1/OAS1_0243_MR1/mwrc1OAS1_0243_MR1_mpr_anon_fslswapdim_bet.nii.gz',\n",
       " './data/oasis1/OAS1_0244_MR1/mwrc1OAS1_0244_MR1_mpr_anon_fslswapdim_bet.nii.gz',\n",
       " './data/oasis1/OAS1_0246_MR1/mwrc1OAS1_0246_MR1_mpr_anon_fslswapdim_bet.nii.gz',\n",
       " './data/oasis1/OAS1_0247_MR1/mwrc1OAS1_0247_MR1_mpr_anon_fslswapdim_bet.nii.gz',\n",
       " './data/oasis1/OAS1_0249_MR1/mwrc1OAS1_0249_MR1_mpr_anon_fslswapdim_bet.nii.gz',\n",
       " './data/oasis1/OAS1_0250_MR1/mwrc1OAS1_0250_MR1_mpr_anon_fslswapdim_bet.nii.gz',\n",
       " './data/oasis1/OAS1_0253_MR1/mwrc1OAS1_0253_MR1_mpr_anon_fslswapdim_bet.nii.gz',\n",
       " './data/oasis1/OAS1_0254_MR1/mwrc1OAS1_0254_MR1_mpr_anon_fslswapdim_bet.nii.gz',\n",
       " './data/oasis1/OAS1_0255_MR1/mwrc1OAS1_0255_MR1_mpr_anon_fslswapdim_bet.nii.gz',\n",
       " './data/oasis1/OAS1_0256_MR1/mwrc1OAS1_0256_MR1_mpr_anon_fslswapdim_bet.nii.gz',\n",
       " './data/oasis1/OAS1_0258_MR1/mwrc1OAS1_0258_MR1_mpr_anon_fslswapdim_bet.nii.gz',\n",
       " './data/oasis1/OAS1_0259_MR1/mwrc1OAS1_0259_MR1_mpr_anon_fslswapdim_bet.nii.gz',\n",
       " './data/oasis1/OAS1_0260_MR1/mwrc1OAS1_0260_MR1_mpr_anon_fslswapdim_bet.nii.gz',\n",
       " './data/oasis1/OAS1_0261_MR1/mwrc1OAS1_0261_MR1_mpr_anon_fslswapdim_bet.nii.gz',\n",
       " './data/oasis1/OAS1_0262_MR1/mwrc1OAS1_0262_MR1_mpr_anon_fslswapdim_bet.nii.gz',\n",
       " './data/oasis1/OAS1_0263_MR1/mwrc1OAS1_0263_MR1_mpr_anon_fslswapdim_bet.nii.gz',\n",
       " './data/oasis1/OAS1_0264_MR1/mwrc1OAS1_0264_MR1_mpr_anon_fslswapdim_bet.nii.gz',\n",
       " './data/oasis1/OAS1_0265_MR1/mwrc1OAS1_0265_MR1_mpr_anon_fslswapdim_bet.nii.gz',\n",
       " './data/oasis1/OAS1_0266_MR1/mwrc1OAS1_0266_MR1_mpr_anon_fslswapdim_bet.nii.gz',\n",
       " './data/oasis1/OAS1_0267_MR1/mwrc1OAS1_0267_MR1_mpr_anon_fslswapdim_bet.nii.gz',\n",
       " './data/oasis1/OAS1_0268_MR1/mwrc1OAS1_0268_MR1_mpr_anon_fslswapdim_bet.nii.gz',\n",
       " './data/oasis1/OAS1_0270_MR1/mwrc1OAS1_0270_MR1_mpr_anon_fslswapdim_bet.nii.gz',\n",
       " './data/oasis1/OAS1_0271_MR1/mwrc1OAS1_0271_MR1_mpr_anon_fslswapdim_bet.nii.gz',\n",
       " './data/oasis1/OAS1_0272_MR1/mwrc1OAS1_0272_MR1_mpr_anon_fslswapdim_bet.nii.gz',\n",
       " './data/oasis1/OAS1_0273_MR1/mwrc1OAS1_0273_MR1_mpr_anon_fslswapdim_bet.nii.gz',\n",
       " './data/oasis1/OAS1_0274_MR1/mwrc1OAS1_0274_MR1_mpr_anon_fslswapdim_bet.nii.gz',\n",
       " './data/oasis1/OAS1_0275_MR1/mwrc1OAS1_0275_MR1_mpr_anon_fslswapdim_bet.nii.gz',\n",
       " './data/oasis1/OAS1_0277_MR1/mwrc1OAS1_0277_MR1_mpr_anon_fslswapdim_bet.nii.gz',\n",
       " './data/oasis1/OAS1_0278_MR1/mwrc1OAS1_0278_MR1_mpr_anon_fslswapdim_bet.nii.gz',\n",
       " './data/oasis1/OAS1_0279_MR1/mwrc1OAS1_0279_MR1_mpr_anon_fslswapdim_bet.nii.gz',\n",
       " './data/oasis1/OAS1_0280_MR1/mwrc1OAS1_0280_MR1_mpr_anon_fslswapdim_bet.nii.gz',\n",
       " './data/oasis1/OAS1_0281_MR1/mwrc1OAS1_0281_MR1_mpr_anon_fslswapdim_bet.nii.gz',\n",
       " './data/oasis1/OAS1_0283_MR1/mwrc1OAS1_0283_MR1_mpr_anon_fslswapdim_bet.nii.gz',\n",
       " './data/oasis1/OAS1_0284_MR1/mwrc1OAS1_0284_MR1_mpr_anon_fslswapdim_bet.nii.gz',\n",
       " './data/oasis1/OAS1_0285_MR1/mwrc1OAS1_0285_MR1_mpr_anon_fslswapdim_bet.nii.gz',\n",
       " './data/oasis1/OAS1_0286_MR1/mwrc1OAS1_0286_MR1_mpr_anon_fslswapdim_bet.nii.gz',\n",
       " './data/oasis1/OAS1_0288_MR1/mwrc1OAS1_0288_MR1_mpr_anon_fslswapdim_bet.nii.gz',\n",
       " './data/oasis1/OAS1_0289_MR1/mwrc1OAS1_0289_MR1_mpr_anon_fslswapdim_bet.nii.gz',\n",
       " './data/oasis1/OAS1_0290_MR1/mwrc1OAS1_0290_MR1_mpr_anon_fslswapdim_bet.nii.gz',\n",
       " './data/oasis1/OAS1_0291_MR1/mwrc1OAS1_0291_MR1_mpr_anon_fslswapdim_bet.nii.gz',\n",
       " './data/oasis1/OAS1_0292_MR1/mwrc1OAS1_0292_MR1_mpr_anon_fslswapdim_bet.nii.gz',\n",
       " './data/oasis1/OAS1_0293_MR1/mwrc1OAS1_0293_MR1_mpr_anon_fslswapdim_bet.nii.gz',\n",
       " './data/oasis1/OAS1_0294_MR1/mwrc1OAS1_0294_MR1_mpr_anon_fslswapdim_bet.nii.gz',\n",
       " './data/oasis1/OAS1_0295_MR1/mwrc1OAS1_0295_MR1_mpr_anon_fslswapdim_bet.nii.gz',\n",
       " './data/oasis1/OAS1_0296_MR1/mwrc1OAS1_0296_MR1_mpr_anon_fslswapdim_bet.nii.gz',\n",
       " './data/oasis1/OAS1_0298_MR1/mwrc1OAS1_0298_MR1_mpr_anon_fslswapdim_bet.nii.gz',\n",
       " './data/oasis1/OAS1_0299_MR1/mwrc1OAS1_0299_MR1_mpr_anon_fslswapdim_bet.nii.gz',\n",
       " './data/oasis1/OAS1_0300_MR1/mwrc1OAS1_0300_MR1_mpr_anon_fslswapdim_bet.nii.gz',\n",
       " './data/oasis1/OAS1_0301_MR1/mwrc1OAS1_0301_MR1_mpr_anon_fslswapdim_bet.nii.gz',\n",
       " './data/oasis1/OAS1_0302_MR1/mwrc1OAS1_0302_MR1_mpr_anon_fslswapdim_bet.nii.gz',\n",
       " './data/oasis1/OAS1_0303_MR1/mwrc1OAS1_0303_MR1_mpr_anon_fslswapdim_bet.nii.gz',\n",
       " './data/oasis1/OAS1_0304_MR1/mwrc1OAS1_0304_MR1_mpr_anon_fslswapdim_bet.nii.gz',\n",
       " './data/oasis1/OAS1_0305_MR1/mwrc1OAS1_0305_MR1_mpr_anon_fslswapdim_bet.nii.gz',\n",
       " './data/oasis1/OAS1_0307_MR1/mwrc1OAS1_0307_MR1_mpr_anon_fslswapdim_bet.nii.gz',\n",
       " './data/oasis1/OAS1_0308_MR1/mwrc1OAS1_0308_MR1_mpr_anon_fslswapdim_bet.nii.gz',\n",
       " './data/oasis1/OAS1_0310_MR1/mwrc1OAS1_0310_MR1_mpr_anon_fslswapdim_bet.nii.gz',\n",
       " './data/oasis1/OAS1_0311_MR1/mwrc1OAS1_0311_MR1_mpr_anon_fslswapdim_bet.nii.gz',\n",
       " './data/oasis1/OAS1_0312_MR1/mwrc1OAS1_0312_MR1_mpr_anon_fslswapdim_bet.nii.gz',\n",
       " './data/oasis1/OAS1_0313_MR1/mwrc1OAS1_0313_MR1_mpr_anon_fslswapdim_bet.nii.gz',\n",
       " './data/oasis1/OAS1_0314_MR1/mwrc1OAS1_0314_MR1_mpr_anon_fslswapdim_bet.nii.gz',\n",
       " './data/oasis1/OAS1_0315_MR1/mwrc1OAS1_0315_MR1_mpr_anon_fslswapdim_bet.nii.gz',\n",
       " './data/oasis1/OAS1_0316_MR1/mwrc1OAS1_0316_MR1_mpr_anon_fslswapdim_bet.nii.gz',\n",
       " './data/oasis1/OAS1_0317_MR1/mwrc1OAS1_0317_MR1_mpr_anon_fslswapdim_bet.nii.gz',\n",
       " './data/oasis1/OAS1_0318_MR1/mwrc1OAS1_0318_MR1_mpr_anon_fslswapdim_bet.nii.gz',\n",
       " './data/oasis1/OAS1_0319_MR1/mwrc1OAS1_0319_MR1_mpr_anon_fslswapdim_bet.nii.gz',\n",
       " './data/oasis1/OAS1_0321_MR1/mwrc1OAS1_0321_MR1_mpr_anon_fslswapdim_bet.nii.gz',\n",
       " './data/oasis1/OAS1_0322_MR1/mwrc1OAS1_0322_MR1_mpr_anon_fslswapdim_bet.nii.gz',\n",
       " './data/oasis1/OAS1_0323_MR1/mwrc1OAS1_0323_MR1_mpr_anon_fslswapdim_bet.nii.gz',\n",
       " './data/oasis1/OAS1_0325_MR1/mwrc1OAS1_0325_MR1_mpr_anon_fslswapdim_bet.nii.gz',\n",
       " './data/oasis1/OAS1_0326_MR1/mwrc1OAS1_0326_MR1_mpr_anon_fslswapdim_bet.nii.gz',\n",
       " './data/oasis1/OAS1_0327_MR1/mwrc1OAS1_0327_MR1_mpr_anon_fslswapdim_bet.nii.gz',\n",
       " './data/oasis1/OAS1_0328_MR1/mwrc1OAS1_0328_MR1_mpr_anon_fslswapdim_bet.nii.gz',\n",
       " './data/oasis1/OAS1_0329_MR1/mwrc1OAS1_0329_MR1_mpr_anon_fslswapdim_bet.nii.gz',\n",
       " './data/oasis1/OAS1_0330_MR1/mwrc1OAS1_0330_MR1_mpr_anon_fslswapdim_bet.nii.gz',\n",
       " './data/oasis1/OAS1_0331_MR1/mwrc1OAS1_0331_MR1_mpr_anon_fslswapdim_bet.nii.gz',\n",
       " './data/oasis1/OAS1_0332_MR1/mwrc1OAS1_0332_MR1_mpr_anon_fslswapdim_bet.nii.gz',\n",
       " './data/oasis1/OAS1_0333_MR1/mwrc1OAS1_0333_MR1_mpr_anon_fslswapdim_bet.nii.gz',\n",
       " './data/oasis1/OAS1_0335_MR1/mwrc1OAS1_0335_MR1_mpr_anon_fslswapdim_bet.nii.gz',\n",
       " './data/oasis1/OAS1_0336_MR1/mwrc1OAS1_0336_MR1_mpr_anon_fslswapdim_bet.nii.gz',\n",
       " './data/oasis1/OAS1_0337_MR1/mwrc1OAS1_0337_MR1_mpr_anon_fslswapdim_bet.nii.gz',\n",
       " './data/oasis1/OAS1_0338_MR1/mwrc1OAS1_0338_MR1_mpr_anon_fslswapdim_bet.nii.gz',\n",
       " './data/oasis1/OAS1_0339_MR1/mwrc1OAS1_0339_MR1_mpr_anon_fslswapdim_bet.nii.gz',\n",
       " './data/oasis1/OAS1_0340_MR1/mwrc1OAS1_0340_MR1_mpr_anon_fslswapdim_bet.nii.gz',\n",
       " './data/oasis1/OAS1_0341_MR1/mwrc1OAS1_0341_MR1_mpr_anon_fslswapdim_bet.nii.gz',\n",
       " './data/oasis1/OAS1_0342_MR1/mwrc1OAS1_0342_MR1_mpr_anon_fslswapdim_bet.nii.gz',\n",
       " './data/oasis1/OAS1_0343_MR1/mwrc1OAS1_0343_MR1_mpr_anon_fslswapdim_bet.nii.gz',\n",
       " './data/oasis1/OAS1_0344_MR1/mwrc1OAS1_0344_MR1_mpr_anon_fslswapdim_bet.nii.gz',\n",
       " './data/oasis1/OAS1_0345_MR1/mwrc1OAS1_0345_MR1_mpr_anon_fslswapdim_bet.nii.gz',\n",
       " './data/oasis1/OAS1_0346_MR1/mwrc1OAS1_0346_MR1_mpr_anon_fslswapdim_bet.nii.gz',\n",
       " './data/oasis1/OAS1_0348_MR1/mwrc1OAS1_0348_MR1_mpr_anon_fslswapdim_bet.nii.gz',\n",
       " './data/oasis1/OAS1_0349_MR1/mwrc1OAS1_0349_MR1_mpr_anon_fslswapdim_bet.nii.gz',\n",
       " './data/oasis1/OAS1_0350_MR1/mwrc1OAS1_0350_MR1_mpr_anon_fslswapdim_bet.nii.gz',\n",
       " './data/oasis1/OAS1_0351_MR1/mwrc1OAS1_0351_MR1_mpr_anon_fslswapdim_bet.nii.gz',\n",
       " './data/oasis1/OAS1_0352_MR1/mwrc1OAS1_0352_MR1_mpr_anon_fslswapdim_bet.nii.gz',\n",
       " './data/oasis1/OAS1_0353_MR1/mwrc1OAS1_0353_MR1_mpr_anon_fslswapdim_bet.nii.gz',\n",
       " './data/oasis1/OAS1_0354_MR1/mwrc1OAS1_0354_MR1_mpr_anon_fslswapdim_bet.nii.gz',\n",
       " './data/oasis1/OAS1_0355_MR1/mwrc1OAS1_0355_MR1_mpr_anon_fslswapdim_bet.nii.gz',\n",
       " './data/oasis1/OAS1_0356_MR1/mwrc1OAS1_0356_MR1_mpr_anon_fslswapdim_bet.nii.gz',\n",
       " './data/oasis1/OAS1_0357_MR1/mwrc1OAS1_0357_MR1_mpr_anon_fslswapdim_bet.nii.gz',\n",
       " './data/oasis1/OAS1_0358_MR1/mwrc1OAS1_0358_MR1_mpr_anon_fslswapdim_bet.nii.gz',\n",
       " './data/oasis1/OAS1_0359_MR1/mwrc1OAS1_0359_MR1_mpr_anon_fslswapdim_bet.nii.gz',\n",
       " './data/oasis1/OAS1_0361_MR1/mwrc1OAS1_0361_MR1_mpr_anon_fslswapdim_bet.nii.gz',\n",
       " './data/oasis1/OAS1_0362_MR1/mwrc1OAS1_0362_MR1_mpr_anon_fslswapdim_bet.nii.gz',\n",
       " './data/oasis1/OAS1_0363_MR1/mwrc1OAS1_0363_MR1_mpr_anon_fslswapdim_bet.nii.gz',\n",
       " './data/oasis1/OAS1_0365_MR1/mwrc1OAS1_0365_MR1_mpr_anon_fslswapdim_bet.nii.gz',\n",
       " './data/oasis1/OAS1_0366_MR1/mwrc1OAS1_0366_MR1_mpr_anon_fslswapdim_bet.nii.gz',\n",
       " './data/oasis1/OAS1_0367_MR1/mwrc1OAS1_0367_MR1_mpr_anon_fslswapdim_bet.nii.gz',\n",
       " './data/oasis1/OAS1_0368_MR1/mwrc1OAS1_0368_MR1_mpr_anon_fslswapdim_bet.nii.gz',\n",
       " './data/oasis1/OAS1_0369_MR1/mwrc1OAS1_0369_MR1_mpr_anon_fslswapdim_bet.nii.gz',\n",
       " './data/oasis1/OAS1_0370_MR1/mwrc1OAS1_0370_MR1_mpr_anon_fslswapdim_bet.nii.gz',\n",
       " './data/oasis1/OAS1_0371_MR1/mwrc1OAS1_0371_MR1_mpr_anon_fslswapdim_bet.nii.gz',\n",
       " './data/oasis1/OAS1_0372_MR1/mwrc1OAS1_0372_MR1_mpr_anon_fslswapdim_bet.nii.gz',\n",
       " './data/oasis1/OAS1_0373_MR1/mwrc1OAS1_0373_MR1_mpr_anon_fslswapdim_bet.nii.gz',\n",
       " './data/oasis1/OAS1_0374_MR1/mwrc1OAS1_0374_MR1_mpr_anon_fslswapdim_bet.nii.gz',\n",
       " './data/oasis1/OAS1_0375_MR1/mwrc1OAS1_0375_MR1_mpr_anon_fslswapdim_bet.nii.gz',\n",
       " './data/oasis1/OAS1_0376_MR1/mwrc1OAS1_0376_MR1_mpr_anon_fslswapdim_bet.nii.gz',\n",
       " './data/oasis1/OAS1_0377_MR1/mwrc1OAS1_0377_MR1_mpr_anon_fslswapdim_bet.nii.gz',\n",
       " './data/oasis1/OAS1_0378_MR1/mwrc1OAS1_0378_MR1_mpr_anon_fslswapdim_bet.nii.gz',\n",
       " './data/oasis1/OAS1_0379_MR1/mwrc1OAS1_0379_MR1_mpr_anon_fslswapdim_bet.nii.gz',\n",
       " './data/oasis1/OAS1_0380_MR1/mwrc1OAS1_0380_MR1_mpr_anon_fslswapdim_bet.nii.gz',\n",
       " './data/oasis1/OAS1_0381_MR1/mwrc1OAS1_0381_MR1_mpr_anon_fslswapdim_bet.nii.gz',\n",
       " './data/oasis1/OAS1_0382_MR1/mwrc1OAS1_0382_MR1_mpr_anon_fslswapdim_bet.nii.gz',\n",
       " './data/oasis1/OAS1_0383_MR1/mwrc1OAS1_0383_MR1_mpr_anon_fslswapdim_bet.nii.gz',\n",
       " './data/oasis1/OAS1_0384_MR1/mwrc1OAS1_0384_MR1_mpr_anon_fslswapdim_bet.nii.gz',\n",
       " './data/oasis1/OAS1_0385_MR1/mwrc1OAS1_0385_MR1_mpr_anon_fslswapdim_bet.nii.gz',\n",
       " './data/oasis1/OAS1_0386_MR1/mwrc1OAS1_0386_MR1_mpr_anon_fslswapdim_bet.nii.gz',\n",
       " './data/oasis1/OAS1_0387_MR1/mwrc1OAS1_0387_MR1_mpr_anon_fslswapdim_bet.nii.gz',\n",
       " './data/oasis1/OAS1_0388_MR1/mwrc1OAS1_0388_MR1_mpr_anon_fslswapdim_bet.nii.gz',\n",
       " './data/oasis1/OAS1_0389_MR1/mwrc1OAS1_0389_MR1_mpr_anon_fslswapdim_bet.nii.gz',\n",
       " './data/oasis1/OAS1_0390_MR1/mwrc1OAS1_0390_MR1_mpr_anon_fslswapdim_bet.nii.gz',\n",
       " './data/oasis1/OAS1_0392_MR1/mwrc1OAS1_0392_MR1_mpr_anon_fslswapdim_bet.nii.gz',\n",
       " './data/oasis1/OAS1_0394_MR1/mwrc1OAS1_0394_MR1_mpr_anon_fslswapdim_bet.nii.gz',\n",
       " './data/oasis1/OAS1_0395_MR1/mwrc1OAS1_0395_MR1_mpr_anon_fslswapdim_bet.nii.gz',\n",
       " './data/oasis1/OAS1_0396_MR1/mwrc1OAS1_0396_MR1_mpr_anon_fslswapdim_bet.nii.gz',\n",
       " './data/oasis1/OAS1_0397_MR1/mwrc1OAS1_0397_MR1_mpr_anon_fslswapdim_bet.nii.gz',\n",
       " './data/oasis1/OAS1_0398_MR1/mwrc1OAS1_0398_MR1_mpr_anon_fslswapdim_bet.nii.gz',\n",
       " './data/oasis1/OAS1_0399_MR1/mwrc1OAS1_0399_MR1_mpr_anon_fslswapdim_bet.nii.gz',\n",
       " './data/oasis1/OAS1_0400_MR1/mwrc1OAS1_0400_MR1_mpr_anon_fslswapdim_bet.nii.gz',\n",
       " './data/oasis1/OAS1_0401_MR1/mwrc1OAS1_0401_MR1_mpr_anon_fslswapdim_bet.nii.gz',\n",
       " './data/oasis1/OAS1_0402_MR1/mwrc1OAS1_0402_MR1_mpr_anon_fslswapdim_bet.nii.gz',\n",
       " './data/oasis1/OAS1_0403_MR1/mwrc1OAS1_0403_MR1_mpr_anon_fslswapdim_bet.nii.gz',\n",
       " './data/oasis1/OAS1_0404_MR1/mwrc1OAS1_0404_MR1_mpr_anon_fslswapdim_bet.nii.gz',\n",
       " './data/oasis1/OAS1_0405_MR1/mwrc1OAS1_0405_MR1_mpr_anon_fslswapdim_bet.nii.gz',\n",
       " './data/oasis1/OAS1_0406_MR1/mwrc1OAS1_0406_MR1_mpr_anon_fslswapdim_bet.nii.gz',\n",
       " './data/oasis1/OAS1_0407_MR1/mwrc1OAS1_0407_MR1_mpr_anon_fslswapdim_bet.nii.gz',\n",
       " './data/oasis1/OAS1_0408_MR1/mwrc1OAS1_0408_MR1_mpr_anon_fslswapdim_bet.nii.gz',\n",
       " './data/oasis1/OAS1_0409_MR1/mwrc1OAS1_0409_MR1_mpr_anon_fslswapdim_bet.nii.gz',\n",
       " './data/oasis1/OAS1_0410_MR1/mwrc1OAS1_0410_MR1_mpr_anon_fslswapdim_bet.nii.gz',\n",
       " './data/oasis1/OAS1_0411_MR1/mwrc1OAS1_0411_MR1_mpr_anon_fslswapdim_bet.nii.gz',\n",
       " './data/oasis1/OAS1_0413_MR1/mwrc1OAS1_0413_MR1_mpr_anon_fslswapdim_bet.nii.gz',\n",
       " './data/oasis1/OAS1_0415_MR1/mwrc1OAS1_0415_MR1_mpr_anon_fslswapdim_bet.nii.gz',\n",
       " './data/oasis1/OAS1_0416_MR1/mwrc1OAS1_0416_MR1_mpr_anon_fslswapdim_bet.nii.gz',\n",
       " './data/oasis1/OAS1_0417_MR1/mwrc1OAS1_0417_MR1_mpr_anon_fslswapdim_bet.nii.gz',\n",
       " './data/oasis1/OAS1_0418_MR1/mwrc1OAS1_0418_MR1_mpr_anon_fslswapdim_bet.nii.gz',\n",
       " './data/oasis1/OAS1_0419_MR1/mwrc1OAS1_0419_MR1_mpr_anon_fslswapdim_bet.nii.gz',\n",
       " './data/oasis1/OAS1_0420_MR1/mwrc1OAS1_0420_MR1_mpr_anon_fslswapdim_bet.nii.gz',\n",
       " './data/oasis1/OAS1_0421_MR1/mwrc1OAS1_0421_MR1_mpr_anon_fslswapdim_bet.nii.gz',\n",
       " './data/oasis1/OAS1_0422_MR1/mwrc1OAS1_0422_MR1_mpr_anon_fslswapdim_bet.nii.gz',\n",
       " './data/oasis1/OAS1_0423_MR1/mwrc1OAS1_0423_MR1_mpr_anon_fslswapdim_bet.nii.gz',\n",
       " './data/oasis1/OAS1_0424_MR1/mwrc1OAS1_0424_MR1_mpr_anon_fslswapdim_bet.nii.gz',\n",
       " './data/oasis1/OAS1_0425_MR1/mwrc1OAS1_0425_MR1_mpr_anon_fslswapdim_bet.nii.gz',\n",
       " './data/oasis1/OAS1_0426_MR1/mwrc1OAS1_0426_MR1_mpr_anon_fslswapdim_bet.nii.gz',\n",
       " './data/oasis1/OAS1_0429_MR1/mwrc1OAS1_0429_MR1_mpr_anon_fslswapdim_bet.nii.gz',\n",
       " './data/oasis1/OAS1_0430_MR1/mwrc1OAS1_0430_MR1_mpr_anon_fslswapdim_bet.nii.gz',\n",
       " './data/oasis1/OAS1_0431_MR1/mwrc1OAS1_0431_MR1_mpr_anon_fslswapdim_bet.nii.gz',\n",
       " './data/oasis1/OAS1_0432_MR1/mwrc1OAS1_0432_MR1_mpr_anon_fslswapdim_bet.nii.gz',\n",
       " './data/oasis1/OAS1_0433_MR1/mwrc1OAS1_0433_MR1_mpr_anon_fslswapdim_bet.nii.gz',\n",
       " './data/oasis1/OAS1_0434_MR1/mwrc1OAS1_0434_MR1_mpr_anon_fslswapdim_bet.nii.gz',\n",
       " './data/oasis1/OAS1_0435_MR1/mwrc1OAS1_0435_MR1_mpr_anon_fslswapdim_bet.nii.gz',\n",
       " './data/oasis1/OAS1_0437_MR1/mwrc1OAS1_0437_MR1_mpr_anon_fslswapdim_bet.nii.gz',\n",
       " './data/oasis1/OAS1_0438_MR1/mwrc1OAS1_0438_MR1_mpr_anon_fslswapdim_bet.nii.gz',\n",
       " './data/oasis1/OAS1_0439_MR1/mwrc1OAS1_0439_MR1_mpr_anon_fslswapdim_bet.nii.gz',\n",
       " './data/oasis1/OAS1_0440_MR1/mwrc1OAS1_0440_MR1_mpr_anon_fslswapdim_bet.nii.gz',\n",
       " './data/oasis1/OAS1_0441_MR1/mwrc1OAS1_0441_MR1_mpr_anon_fslswapdim_bet.nii.gz',\n",
       " './data/oasis1/OAS1_0442_MR1/mwrc1OAS1_0442_MR1_mpr_anon_fslswapdim_bet.nii.gz',\n",
       " './data/oasis1/OAS1_0443_MR1/mwrc1OAS1_0443_MR1_mpr_anon_fslswapdim_bet.nii.gz',\n",
       " './data/oasis1/OAS1_0444_MR1/mwrc1OAS1_0444_MR1_mpr_anon_fslswapdim_bet.nii.gz',\n",
       " './data/oasis1/OAS1_0445_MR1/mwrc1OAS1_0445_MR1_mpr_anon_fslswapdim_bet.nii.gz',\n",
       " './data/oasis1/OAS1_0446_MR1/mwrc1OAS1_0446_MR1_mpr_anon_fslswapdim_bet.nii.gz',\n",
       " './data/oasis1/OAS1_0447_MR1/mwrc1OAS1_0447_MR1_mpr_anon_fslswapdim_bet.nii.gz',\n",
       " './data/oasis1/OAS1_0448_MR1/mwrc1OAS1_0448_MR1_mpr_anon_fslswapdim_bet.nii.gz',\n",
       " './data/oasis1/OAS1_0449_MR1/mwrc1OAS1_0449_MR1_mpr_anon_fslswapdim_bet.nii.gz',\n",
       " './data/oasis1/OAS1_0450_MR1/mwrc1OAS1_0450_MR1_mpr_anon_fslswapdim_bet.nii.gz',\n",
       " './data/oasis1/OAS1_0451_MR1/mwrc1OAS1_0451_MR1_mpr_anon_fslswapdim_bet.nii.gz',\n",
       " './data/oasis1/OAS1_0452_MR1/mwrc1OAS1_0452_MR1_mpr_anon_fslswapdim_bet.nii.gz',\n",
       " './data/oasis1/OAS1_0453_MR1/mwrc1OAS1_0453_MR1_mpr_anon_fslswapdim_bet.nii.gz',\n",
       " './data/oasis1/OAS1_0454_MR1/mwrc1OAS1_0454_MR1_mpr_anon_fslswapdim_bet.nii.gz',\n",
       " './data/oasis1/OAS1_0455_MR1/mwrc1OAS1_0455_MR1_mpr_anon_fslswapdim_bet.nii.gz',\n",
       " './data/oasis1/OAS1_0456_MR1/mwrc1OAS1_0456_MR1_mpr_anon_fslswapdim_bet.nii.gz']"
      ]
     },
     "execution_count": 42,
     "metadata": {},
     "output_type": "execute_result"
    }
   ],
   "source": [
    "data.gray_matter_maps"
   ]
  },
  {
   "cell_type": "code",
   "execution_count": 43,
   "metadata": {},
   "outputs": [
    {
     "name": "stdout",
     "output_type": "stream",
     "text": [
      "['OAS1_0016_MR1', 'OAS1_0021_MR1', 'OAS1_0023_MR1', 'OAS1_0065_MR1', 'OAS1_0084_MR1', 'OAS1_0123_MR1', 'OAS1_0124_MR1', 'OAS1_0161_MR1', 'OAS1_0166_MR1', 'OAS1_0179_MR1', 'OAS1_0226_MR1', 'OAS1_0233_MR1', 'OAS1_0240_MR1', 'OAS1_0247_MR1', 'OAS1_0271_MR1', 'OAS1_0272_MR1', 'OAS1_0273_MR1', 'OAS1_0286_MR1', 'OAS1_0287_MR1', 'OAS1_0290_MR1', 'OAS1_0312_MR1', 'OAS1_0330_MR1', 'OAS1_0335_MR1', 'OAS1_0339_MR1', 'OAS1_0354_MR1', 'OAS1_0380_MR1', 'OAS1_0440_MR1', 'OAS1_0454_MR1']\n"
     ]
    }
   ],
   "source": [
    "print(list(no_alz_patient_ids))"
   ]
  },
  {
   "cell_type": "code",
   "execution_count": 44,
   "metadata": {},
   "outputs": [
    {
     "data": {
      "text/plain": [
       "'./data/oasis1/OAS1_0032_MR1/mwrc1OAS1_0032_MR1_mpr_anon_fslswapdim_bet.nii.gz'"
      ]
     },
     "execution_count": 44,
     "metadata": {},
     "output_type": "execute_result"
    }
   ],
   "source": [
    "data.gray_matter_maps[28]"
   ]
  },
  {
   "cell_type": "code",
   "execution_count": 45,
   "metadata": {},
   "outputs": [
    {
     "ename": "IndexError",
     "evalue": "list index out of range",
     "output_type": "error",
     "traceback": [
      "\u001b[0;31m---------------------------------------------------------------------------\u001b[0m",
      "\u001b[0;31mIndexError\u001b[0m                                Traceback (most recent call last)",
      "\u001b[0;32m<ipython-input-45-7ad9e1b1798a>\u001b[0m in \u001b[0;36m<module>\u001b[0;34m\u001b[0m\n\u001b[1;32m      2\u001b[0m \u001b[0mbg_filename\u001b[0m \u001b[0;34m=\u001b[0m \u001b[0mdata\u001b[0m\u001b[0;34m.\u001b[0m\u001b[0mgray_matter_maps\u001b[0m\u001b[0;34m[\u001b[0m\u001b[0;36m0\u001b[0m\u001b[0;34m]\u001b[0m\u001b[0;34m\u001b[0m\u001b[0;34m\u001b[0m\u001b[0m\n\u001b[1;32m      3\u001b[0m \u001b[0mz_slice\u001b[0m \u001b[0;34m=\u001b[0m \u001b[0;36m0\u001b[0m\u001b[0;34m\u001b[0m\u001b[0;34m\u001b[0m\u001b[0m\n\u001b[0;32m----> 4\u001b[0;31m display = plot_stat_map(data.gray_matter_maps[452], bg_img=bg_filename,\n\u001b[0m\u001b[1;32m      5\u001b[0m                         display_mode='z', cut_coords=[z_slice])\n\u001b[1;32m      6\u001b[0m \u001b[0mdisplay\u001b[0m\u001b[0;34m.\u001b[0m\u001b[0mtitle\u001b[0m\u001b[0;34m(\u001b[0m\u001b[0;34m\"SVM weights\"\u001b[0m\u001b[0;34m)\u001b[0m\u001b[0;34m\u001b[0m\u001b[0;34m\u001b[0m\u001b[0m\n",
      "\u001b[0;31mIndexError\u001b[0m: list index out of range"
     ]
    }
   ],
   "source": [
    "from nilearn.plotting import plot_stat_map, show\n",
    "bg_filename = data.gray_matter_maps[0]\n",
    "z_slice = 0\n",
    "display = plot_stat_map(data.gray_matter_maps[452], bg_img=bg_filename,\n",
    "                        display_mode='z', cut_coords=[z_slice])\n",
    "display.title(\"SVM weights\")\n",
    "show()"
   ]
  },
  {
   "cell_type": "code",
   "execution_count": 46,
   "metadata": {},
   "outputs": [
    {
     "name": "stdout",
     "output_type": "stream",
     "text": [
      "32\n"
     ]
    }
   ],
   "source": [
    "test_str = './data/oasis1/OAS1_0032_MR1/mwrc1OAS1_0032_MR1_mpr_anon_fslswapdim_bet.nii.gz'\n",
    "\n",
    "\n",
    "def get_patient_id(str):\n",
    "    return int(str[19:23]) # hardcoded slice, change if necessary\n",
    "\n",
    "print(get_patient_id(test_str))"
   ]
  },
  {
   "cell_type": "code",
   "execution_count": 64,
   "metadata": {},
   "outputs": [],
   "source": [
    "# display a plot_stat_map for the given patient\n",
    "\n",
    "def brain_plot(patient_id):\n",
    "    bg_filename = data.gray_matter_maps[patient_id]\n",
    "    z_slice = 0\n",
    "    display = plot_stat_map(data.gray_matter_maps[patient_id], #bg_img=bg_filename,\n",
    "                            display_mode='z', cut_coords=[z_slice])\n",
    "    display.title(\"SVM weights\")\n",
    "    show()\n",
    "\n",
    "\n",
    "\n",
    "\n",
    "\n",
    "ALZ_GRAY_MATTER = []\n",
    "TD_GRAY_MATTER = []\n",
    "\n",
    "ALZ_GRAY_MATTER_IDX = []\n",
    "TD_GRAY_MATTER_IDX = []\n",
    "\n",
    "def make_alz_gray_matter_maps(alz_patient_id_list):\n",
    "    for i in range(0, len(data.gray_matter_maps)):\n",
    "        # if i matches alz_patient_id_list and the patient_id in gray_matter_maps\n",
    "        this_patient = get_patient_id(data.gray_matter_maps[i])\n",
    "        #print(this_patient)\n",
    "        for j in range(0, len(alz_patient_id_list)):\n",
    "            #print(this_patient, \" and id list:\", alz_patient_id_list[j])\n",
    "            if alz_patient_id_list[j] == this_patient:\n",
    "                #print(\"Found!\")\n",
    "                try:\n",
    "                    ALZ_GRAY_MATTER.append(data.gray_matter_maps[i])\n",
    "                    ALZ_GRAY_MATTER_IDX.append(i)\n",
    "                except IndexError:\n",
    "                    print(\"ERROR: \", i,\n",
    "                    \"th index of gray_matter_maps, Patient #\", alz_patient_id_list[j])\n",
    "\n",
    "def make_td_gray_matter_maps(td_patient_id_list):\n",
    "    for i in range(0, len(data.gray_matter_maps)):\n",
    "        # if i matches td_patient_id_list and the patient_id in gray_matter_maps\n",
    "        this_patient = get_patient_id(data.gray_matter_maps[i])\n",
    "        for j in range(0, len(td_patient_id_list)):\n",
    "            if td_patient_id_list[j] == this_patient:\n",
    "                try:\n",
    "                    TD_GRAY_MATTER.append(data.gray_matter_maps[i])\n",
    "                    TD_GRAY_MATTER_IDX.append(i)\n",
    "                except IndexError:\n",
    "                    print(\"ERROR: \", i,\n",
    "                    \"th index of gray_matter_maps, Patient #\", td_patient_id_list[j])\n",
    "\n",
    "\n",
    "        "
   ]
  },
  {
   "cell_type": "code",
   "execution_count": 13,
   "metadata": {},
   "outputs": [],
   "source": [
    "import re"
   ]
  },
  {
   "cell_type": "code",
   "execution_count": 15,
   "metadata": {},
   "outputs": [
    {
     "name": "stdout",
     "output_type": "stream",
     "text": [
      "[28, 31, 35, 52, 53, 56, 67, 73, 122, 134, 137, 184, 185, 223, 268, 269, 278, 291, 316, 373, 382, 388, 399, 405, 424, 425, 430, 452]\n"
     ]
    }
   ],
   "source": [
    "def get_numbers_only_ids(ids):\n",
    "    l = []\n",
    "    # id in format: \"OAS1_{PATIENT_ID}_MR1\"\n",
    "    # e.g., OAS1_0028_MR1\n",
    "    # re '\\d+' would give: ['1','0028','1']\n",
    "    # so we get 1st element\n",
    "    for id in ids:\n",
    "#         l.append(int(filter(str.isdigit, id)))\n",
    "        number = re.findall('\\d+', id)\n",
    "        #print(id, number)\n",
    "        l.append(int(number[1]))\n",
    "    return l"
   ]
  },
  {
   "cell_type": "code",
   "execution_count": 63,
   "metadata": {},
   "outputs": [
    {
     "name": "stdout",
     "output_type": "stream",
     "text": [
      "[28, 31, 35, 52, 53, 56, 67, 73, 122, 134]\n",
      "['./data/oasis1/OAS1_0016_MR1/mwrc1OAS1_0016_MR1_mpr_anon_fslswapdim_bet.nii.gz', './data/oasis1/OAS1_0021_MR1/mwrc1OAS1_0021_MR1_mpr_anon_fslswapdim_bet.nii.gz', './data/oasis1/OAS1_0023_MR1/mwrc1OAS1_0023_MR1_mpr_anon_fslswapdim_bet.nii.gz', './data/oasis1/OAS1_0065_MR1/mwrc1OAS1_0065_MR1_mpr_anon_fslswapdim_bet.nii.gz', './data/oasis1/OAS1_0084_MR1/mwrc1OAS1_0084_MR1_mpr_anon_fslswapdim_bet.nii.gz', './data/oasis1/OAS1_0123_MR1/mwrc1OAS1_0123_MR1_mpr_anon_fslswapdim_bet.nii.gz', './data/oasis1/OAS1_0124_MR1/mwrc1OAS1_0124_MR1_mpr_anon_fslswapdim_bet.nii.gz', './data/oasis1/OAS1_0161_MR1/mwrc1OAS1_0161_MR1_mpr_anon_fslswapdim_bet.nii.gz', './data/oasis1/OAS1_0166_MR1/mwrc1OAS1_0166_MR1_mpr_anon_fslswapdim_bet.nii.gz', './data/oasis1/OAS1_0179_MR1/mwrc1OAS1_0179_MR1_mpr_anon_fslswapdim_bet.nii.gz', './data/oasis1/OAS1_0226_MR1/mwrc1OAS1_0226_MR1_mpr_anon_fslswapdim_bet.nii.gz', './data/oasis1/OAS1_0233_MR1/mwrc1OAS1_0233_MR1_mpr_anon_fslswapdim_bet.nii.gz', './data/oasis1/OAS1_0240_MR1/mwrc1OAS1_0240_MR1_mpr_anon_fslswapdim_bet.nii.gz', './data/oasis1/OAS1_0247_MR1/mwrc1OAS1_0247_MR1_mpr_anon_fslswapdim_bet.nii.gz', './data/oasis1/OAS1_0271_MR1/mwrc1OAS1_0271_MR1_mpr_anon_fslswapdim_bet.nii.gz', './data/oasis1/OAS1_0272_MR1/mwrc1OAS1_0272_MR1_mpr_anon_fslswapdim_bet.nii.gz', './data/oasis1/OAS1_0273_MR1/mwrc1OAS1_0273_MR1_mpr_anon_fslswapdim_bet.nii.gz', './data/oasis1/OAS1_0286_MR1/mwrc1OAS1_0286_MR1_mpr_anon_fslswapdim_bet.nii.gz', './data/oasis1/OAS1_0290_MR1/mwrc1OAS1_0290_MR1_mpr_anon_fslswapdim_bet.nii.gz', './data/oasis1/OAS1_0312_MR1/mwrc1OAS1_0312_MR1_mpr_anon_fslswapdim_bet.nii.gz', './data/oasis1/OAS1_0330_MR1/mwrc1OAS1_0330_MR1_mpr_anon_fslswapdim_bet.nii.gz', './data/oasis1/OAS1_0335_MR1/mwrc1OAS1_0335_MR1_mpr_anon_fslswapdim_bet.nii.gz', './data/oasis1/OAS1_0339_MR1/mwrc1OAS1_0339_MR1_mpr_anon_fslswapdim_bet.nii.gz', './data/oasis1/OAS1_0354_MR1/mwrc1OAS1_0354_MR1_mpr_anon_fslswapdim_bet.nii.gz', './data/oasis1/OAS1_0380_MR1/mwrc1OAS1_0380_MR1_mpr_anon_fslswapdim_bet.nii.gz', './data/oasis1/OAS1_0440_MR1/mwrc1OAS1_0440_MR1_mpr_anon_fslswapdim_bet.nii.gz', './data/oasis1/OAS1_0454_MR1/mwrc1OAS1_0454_MR1_mpr_anon_fslswapdim_bet.nii.gz']\n",
      "['./data/oasis1/OAS1_0028_MR1/mwrc1OAS1_0028_MR1_mpr_anon_fslswapdim_bet.nii.gz', './data/oasis1/OAS1_0031_MR1/mwrc1OAS1_0031_MR1_mpr_anon_fslswapdim_bet.nii.gz', './data/oasis1/OAS1_0035_MR1/mwrc1OAS1_0035_MR1_mpr_anon_fslswapdim_bet.nii.gz', './data/oasis1/OAS1_0052_MR1/mwrc1OAS1_0052_MR1_mpr_anon_fslswapdim_bet.nii.gz', './data/oasis1/OAS1_0053_MR1/mwrc1OAS1_0053_MR1_mpr_anon_fslswapdim_bet.nii.gz', './data/oasis1/OAS1_0056_MR1/mwrc1OAS1_0056_MR1_mpr_anon_fslswapdim_bet.nii.gz', './data/oasis1/OAS1_0067_MR1/mwrc1OAS1_0067_MR1_mpr_anon_fslswapdim_bet.nii.gz', './data/oasis1/OAS1_0073_MR1/mwrc1OAS1_0073_MR1_mpr_anon_fslswapdim_bet.nii.gz', './data/oasis1/OAS1_0134_MR1/mwrc1OAS1_0134_MR1_mpr_anon_fslswapdim_bet.nii.gz', './data/oasis1/OAS1_0137_MR1/mwrc1OAS1_0137_MR1_mpr_anon_fslswapdim_bet.nii.gz', './data/oasis1/OAS1_0184_MR1/mwrc1OAS1_0184_MR1_mpr_anon_fslswapdim_bet.nii.gz', './data/oasis1/OAS1_0185_MR1/mwrc1OAS1_0185_MR1_mpr_anon_fslswapdim_bet.nii.gz', './data/oasis1/OAS1_0223_MR1/mwrc1OAS1_0223_MR1_mpr_anon_fslswapdim_bet.nii.gz', './data/oasis1/OAS1_0268_MR1/mwrc1OAS1_0268_MR1_mpr_anon_fslswapdim_bet.nii.gz', './data/oasis1/OAS1_0278_MR1/mwrc1OAS1_0278_MR1_mpr_anon_fslswapdim_bet.nii.gz', './data/oasis1/OAS1_0291_MR1/mwrc1OAS1_0291_MR1_mpr_anon_fslswapdim_bet.nii.gz', './data/oasis1/OAS1_0316_MR1/mwrc1OAS1_0316_MR1_mpr_anon_fslswapdim_bet.nii.gz', './data/oasis1/OAS1_0373_MR1/mwrc1OAS1_0373_MR1_mpr_anon_fslswapdim_bet.nii.gz', './data/oasis1/OAS1_0382_MR1/mwrc1OAS1_0382_MR1_mpr_anon_fslswapdim_bet.nii.gz', './data/oasis1/OAS1_0388_MR1/mwrc1OAS1_0388_MR1_mpr_anon_fslswapdim_bet.nii.gz', './data/oasis1/OAS1_0399_MR1/mwrc1OAS1_0399_MR1_mpr_anon_fslswapdim_bet.nii.gz', './data/oasis1/OAS1_0405_MR1/mwrc1OAS1_0405_MR1_mpr_anon_fslswapdim_bet.nii.gz', './data/oasis1/OAS1_0424_MR1/mwrc1OAS1_0424_MR1_mpr_anon_fslswapdim_bet.nii.gz', './data/oasis1/OAS1_0425_MR1/mwrc1OAS1_0425_MR1_mpr_anon_fslswapdim_bet.nii.gz', './data/oasis1/OAS1_0430_MR1/mwrc1OAS1_0430_MR1_mpr_anon_fslswapdim_bet.nii.gz', './data/oasis1/OAS1_0452_MR1/mwrc1OAS1_0452_MR1_mpr_anon_fslswapdim_bet.nii.gz']\n"
     ]
    }
   ],
   "source": [
    "alz_numerical_ids = get_numbers_only_ids(alz_patient_ids)\n",
    "no_alz_numerical_ids = get_numbers_only_ids(no_alz_patient_ids)\n",
    "\n",
    "# print('alz:\\n', alz_numerical_ids, '\\n')\n",
    "# print('no alz:\\n', no_alz_numerical_ids, '\\n')\n",
    "\n",
    "make_alz_gray_matter_maps(alz_numerical_ids)\n",
    "make_td_gray_matter_maps(no_alz_numerical_ids)\n",
    "\n",
    "print(alz_numerical_ids[:10])\n",
    "print(TD_GRAY_MATTER)\n",
    "print(ALZ_GRAY_MATTER)"
   ]
  },
  {
   "cell_type": "code",
   "execution_count": null,
   "metadata": {},
   "outputs": [],
   "source": [
    "# Fetch atlas\n",
    "\n",
    "atlas = fetch.fetch_atlas_harvard_oxford('cort-maxprob-thr0-1mm',data_dir=\"./atlases/\")\n",
    "atlas"
   ]
  },
  {
   "cell_type": "code",
   "execution_count": 70,
   "metadata": {},
   "outputs": [
    {
     "data": {
      "text/plain": [
       "<nibabel.nifti1.Nifti1Image at 0x7fcca8d9e510>"
      ]
     },
     "execution_count": 70,
     "metadata": {},
     "output_type": "execute_result"
    }
   ],
   "source": [
    "atlas.filename"
   ]
  },
  {
   "cell_type": "code",
   "execution_count": 74,
   "metadata": {},
   "outputs": [
    {
     "name": "stderr",
     "output_type": "stream",
     "text": [
      "/Users/finnroblin/anaconda3/envs/ml/lib/python3.7/site-packages/nilearn/plotting/displays.py:103: UserWarning: No contour levels were found within the data range.\n",
      "  **kwargs)\n"
     ]
    },
    {
     "data": {
      "text/plain": [
       "<nilearn.plotting.displays.OrthoSlicer at 0x7fccbbdc1c90>"
      ]
     },
     "execution_count": 74,
     "metadata": {},
     "output_type": "execute_result"
    },
    {
     "data": {
      "image/png": "[encoded data removed]",
      "text/plain": [
       "<Figure size 475.2x187.2 with 4 Axes>"
      ]
     },
     "metadata": {},
     "output_type": "display_data"
    }
   ],
   "source": [
    "from nilearn import plotting\n",
    "plotting.plot_roi(atlas.filename, view_type='contours',title=\"HOA\")"
   ]
  },
  {
   "cell_type": "code",
   "execution_count": null,
   "metadata": {},
   "outputs": [],
   "source": [
    "\n"
   ]
  }
 ],
 "metadata": {
  "interpreter": {
   "hash": "088642957c490dd4daf395be73f7b752d6c7c85f2342d2cbf02101c32df6c315"
  },
  "kernelspec": {
   "display_name": "Python 3.7.10 64-bit ('ml': conda)",
   "name": "python3"
  },
  "language_info": {
   "codemirror_mode": {
    "name": "ipython",
    "version": 3
   },
   "file_extension": ".py",
   "mimetype": "text/x-python",
   "name": "python",
   "nbconvert_exporter": "python",
   "pygments_lexer": "ipython3",
   "version": "3.7.10"
  }
 },
 "nbformat": 4,
 "nbformat_minor": 4
}
