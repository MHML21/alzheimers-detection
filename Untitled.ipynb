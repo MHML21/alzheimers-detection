{
 "cells": [
  {
   "cell_type": "code",
   "execution_count": 1,
   "id": "de3b84ed",
   "metadata": {},
   "outputs": [
    {
     "ename": "SyntaxError",
     "evalue": "invalid syntax (<ipython-input-1-c0fd33b51c4f>, line 3)",
     "output_type": "error",
     "traceback": [
      "\u001b[0;36m  File \u001b[0;32m\"<ipython-input-1-c0fd33b51c4f>\"\u001b[0;36m, line \u001b[0;32m3\u001b[0m\n\u001b[0;31m    In [14]:\u001b[0m\n\u001b[0m            ^\u001b[0m\n\u001b[0;31mSyntaxError\u001b[0m\u001b[0;31m:\u001b[0m invalid syntax\n"
     ]
    }
   ],
   "source": [
    "import nilearn.datasets\n",
    "import pandas as pd\n",
    "In [14]:\n",
    "patient_df = pd.read_csv(\"./patient_ids.csv\")\n",
    "In [15]:\n",
    "ids = list(patient_df['ID'])\n",
    "In [16]:\n",
    "data = nilearn.datasets.fetch_oasis_vbm(data_dir=\"./data/\")\n",
    "In [19]:\n",
    "data.gray_matter_maps[28]\n",
    "Out[19]:\n",
    "'./data/oasis1/OAS1_0032_MR1/mwrc1OAS1_0032_MR1_mpr_anon_fslswapdim_bet.nii.gz'\n",
    "In [23]:\n",
    "# Create the figure\n",
    "from nilearn.plotting import plot_stat_map, show\n",
    "bg_filename = data.gray_matter_maps[0]\n",
    "z_slice = 0\n",
    "display = plot_stat_map(0, bg_img=bg_filename,\n",
    "                        display_mode='z', cut_coords=[z_slice])\n",
    "display.title(\"SVM weights\")\n",
    "show()"
   ]
  },
  {
   "cell_type": "code",
   "execution_count": null,
   "id": "48284a3f",
   "metadata": {},
   "outputs": [],
   "source": []
  }
 ],
 "metadata": {
  "kernelspec": {
   "display_name": "Python 3",
   "language": "python",
   "name": "python3"
  },
  "language_info": {
   "codemirror_mode": {
    "name": "ipython",
    "version": 3
   },
   "file_extension": ".py",
   "mimetype": "text/x-python",
   "name": "python",
   "nbconvert_exporter": "python",
   "pygments_lexer": "ipython3",
   "version": "3.8.8"
  }
 },
 "nbformat": 4,
 "nbformat_minor": 5
}
