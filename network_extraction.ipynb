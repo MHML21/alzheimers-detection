{
 "cells": [
  {
   "cell_type": "code",
   "execution_count": null,
   "id": "862c8b00-e9f5-4990-abb7-2c1a717fd97c",
   "metadata": {},
   "outputs": [],
   "source": [
    "import nilearn.datasets\n",
    "import pandas as pd\n",
    "\n"
   ]
  },
  {
   "cell_type": "code",
   "execution_count": null,
   "id": "dbe4db8b-8a27-43cc-807b-fc1e47ddffd5",
   "metadata": {},
   "outputs": [],
   "source": [
    "patient_df = pd.read_csv(\"./patient_ids.csv\")"
   ]
  },
  {
   "cell_type": "code",
   "execution_count": null,
   "id": "13ea7738",
   "metadata": {},
   "outputs": [],
   "source": [
    "ids = list(patient_df['ID'])"
   ]
  },
  {
   "cell_type": "code",
   "execution_count": null,
   "id": "41c08e13",
   "metadata": {},
   "outputs": [],
   "source": [
    "data = nilearn.datasets.fetch_oasis_vbm(data_dir=\"./data/\")"
   ]
  },
  {
   "cell_type": "code",
   "execution_count": null,
   "id": "67b203d3",
   "metadata": {},
   "outputs": [],
   "source": [
    "data.gray_matter_maps[28]"
   ]
  },
  {
   "cell_type": "code",
   "execution_count": null,
   "id": "ce352193",
   "metadata": {},
   "outputs": [],
   "source": [
    "# Create the figure\n",
    "from nilearn.plotting import plot_stat_map, show\n",
    "bg_filename = data.gray_matter_maps[0]\n",
    "z_slice = 0\n",
    "display = plot_stat_map(0, bg_img=bg_filename,\n",
    "                        display_mode='z', cut_coords=[z_slice])\n",
    "display.title(\"SVM weights\")\n",
    "show()"
   ]
  },
  {
   "cell_type": "code",
   "execution_count": null,
   "id": "a7512a51",
   "metadata": {},
   "outputs": [],
   "source": []
  },
  {
   "cell_type": "code",
   "execution_count": null,
   "id": "08a8436a",
   "metadata": {},
   "outputs": [],
   "source": []
  },
  {
   "cell_type": "code",
   "execution_count": null,
   "id": "56307439",
   "metadata": {},
   "outputs": [],
   "source": []
  },
  {
   "cell_type": "code",
   "execution_count": null,
   "id": "c1ddb4cd",
   "metadata": {},
   "outputs": [],
   "source": []
  }
 ],
 "metadata": {
  "kernelspec": {
   "display_name": "Python 3",
   "language": "python",
   "name": "python3"
  },
  "language_info": {
   "codemirror_mode": {
    "name": "ipython",
    "version": 3
   },
   "file_extension": ".py",
   "mimetype": "text/x-python",
   "name": "python",
   "nbconvert_exporter": "python",
   "pygments_lexer": "ipython3",
   "version": "3.8.8"
  }
 },
 "nbformat": 4,
 "nbformat_minor": 5
}
